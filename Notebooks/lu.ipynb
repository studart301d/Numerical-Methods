{
 "cells": [
  {
   "cell_type": "markdown",
   "metadata": {},
   "source": [
    "# Método da Decomposição LU\n",
    "## Objetivos\n",
    "Os objetivos desse notebook são três:\n",
    "\n",
    " 1. Implementar o método das substituições sucessivas e testá-lo.\n",
    "\n",
    " 2. Implementar o método da decomposição LU.\n",
    "\n",
    " 3. Implementar o método que utiliza a decomposição LU para resolver sistemas lineares e testá-lo.\n",
    "\n",
    "## Implementação\n",
    "Nós iremos implementar os algoritmos parte por parte, de acordo com as estratégias mostradas em sala. As instruções estão nos comentários nas funções abaixo. Você só precisa editar onde estiver indicado. \n",
    "\n",
    "Para executar uma célula, selecione a célula e pressione ```Ctrl + Enter```. Após implementar as funções abaixo, você deve executar cada uma das células, preferencialmente na ordem em que elas aparecem.\n"
   ]
  },
  {
   "cell_type": "code",
   "execution_count": 1,
   "metadata": {},
   "outputs": [],
   "source": [
    "import numpy as np"
   ]
  },
  {
   "cell_type": "markdown",
   "metadata": {},
   "source": [
    "### Método das Substituições Sucessivas"
   ]
  },
  {
   "cell_type": "code",
   "execution_count": 2,
   "metadata": {},
   "outputs": [],
   "source": [
    "def substituicoes_sucessivas(matrizA, vectorb):\n",
    "    '''Executa o método das substituições sucessivas para resolver o sistema \n",
    "       linear triangular inferior Ax=b.\n",
    "       Parâmetros de entrada: A é uma matriz triangular inferior e b é o vetor constante. \n",
    "       Saída: vetor x\n",
    "    '''\n",
    "    if type(matrizA) != np.ndarray:\n",
    "        matrizA = np.array(matrizA)\n",
    "            \n",
    "    #Verificar se a Matriz A é triangular inferior\n",
    "\n",
    "    b = len(vectorb)  # size da Matriz A\n",
    "\n",
    "    vectorX = []    #Vetor x\n",
    "    \n",
    "    for i in range(b):\n",
    "        vectorX.append((vectorb[i] - sum(vectorX[0:i]*matrizA[i][0:i]))/matrizA[i][i])\n",
    "    return vectorX"
   ]
  },
  {
   "cell_type": "markdown",
   "metadata": {},
   "source": [
    "Agora precisamos testar se a função está implementada corretamente. Iremos usar o exemplo mostrado em sala."
   ]
  },
  {
   "cell_type": "code",
   "execution_count": 3,
   "metadata": {},
   "outputs": [
    {
     "name": "stdout",
     "output_type": "stream",
     "text": [
      "[2.0, -1.0, 5.0, 3.0]\n"
     ]
    }
   ],
   "source": [
    "A = [[2, 0, 0, 0],\n",
    "     [3, 5, 0, 0],\n",
    "     [1, -6, 8, 0],\n",
    "     [-1, 4, -3, 9]]\n",
    "b = [4, 1, 48, 6]\n",
    "x = substituicoes_sucessivas(A, b)\n",
    "print(x)"
   ]
  },
  {
   "cell_type": "markdown",
   "metadata": {},
   "source": [
    "Se estiver tudo ok, ao executar a célula acima, você deve ver a resposta:\n",
    "```\n",
    "[2.0, -1.0, 5.0, 3.0]\n",
    "\n",
    "```\n",
    "\n",
    "#### Exercício:\n",
    "Na célula abaixo, resolva o exercício mostrado em sala:\n",
    "\n",
    "$\\begin{cases}\n",
    "3x_1= 6\\\\\n",
    "2x_1 - 3x_2 = 7\\\\\n",
    "x_1 + 5x_3 = -8\\\\\n",
    "2x_2 + 4x_3 - 3x_4=-3\n",
    "\\end{cases}$\n",
    "\n",
    "**Não se esqueça de executar as células de código acima!**"
   ]
  },
  {
   "cell_type": "markdown",
   "metadata": {},
   "source": [
    "### Decomposição LU\n",
    "\n",
    "Iremos definir uma função que decompõe uma matriz em A no produto de duas matrizes LU.\n",
    "\n",
    "Para isso, precisaremos da sua função identidade criada no notebook gauss_jordan.ipynb. Copie e cole a sua função na célula abaixo:"
   ]
  },
  {
   "cell_type": "code",
   "execution_count": 5,
   "metadata": {},
   "outputs": [],
   "source": [
    "def identidade(n):\n",
    "    '''Cria uma matriz identidade de ordem n.\n",
    "    Parâmetros de entrada:  n é a ordem da matriz.\n",
    "    Saída: matriz identidade de ordem n.\n",
    "    '''\n",
    "    # Escreva o seu código aqui"
   ]
  },
  {
   "cell_type": "code",
   "execution_count": 6,
   "metadata": {},
   "outputs": [
    {
     "data": {
      "text/plain": [
       "array([[1., 0., 0.],\n",
       "       [0., 1., 0.],\n",
       "       [0., 0., 1.]])"
      ]
     },
     "execution_count": 6,
     "metadata": {},
     "output_type": "execute_result"
    }
   ],
   "source": [
    "np.eye(3)"
   ]
  },
  {
   "cell_type": "markdown",
   "metadata": {},
   "source": [
    "**Não se esqueça de executar a célula de código acima!**\n",
    "\n",
    "A função já foi testada então iremos implementar a função lu. Para isso, é recomendável que você inicie a partir do código usado para a função gauss, pois vimos que a matriz U é a mesma matriz triangular superior gerada pelo método de Gauss. Modifique o método de Gauss, seguindo a estratégia a seguir:\n",
    "\n",
    " 1. Inicialize a matriz L com a matriz identidade (essa parte já está feita).\n",
    "\n",
    " 2. Ao calcular o fator m, popule a matriz L na posição correspondente ao fator m calculado.\n",
    "\n",
    " 3. Remova o código referente à atualização do vetor b, pois não será mais necessário.\n",
    "\n",
    " 4. Também remova a parte de cálculo do vetor x, pois só será utilizado na função seguinte."
   ]
  },
  {
   "cell_type": "code",
   "execution_count": 17,
   "metadata": {},
   "outputs": [],
   "source": [
    "def lu(A):\n",
    "    '''\n",
    "    Decompõe a matriz A no produto de duas matrizes L e U. Onde L é uma matriz \n",
    "    triangular inferior unitária e U é uma matriz triangular superior.\n",
    "    Parâmetros de entrada: A é uma matriz quadrada de ordem n.\n",
    "    Saída: (L,U) tupla com as matrizes L e U\n",
    "    '''\n",
    "    n = len(A)\n",
    "    \n",
    "    ## Inicializa a matriz L com a matriz identidade\n",
    "    #L = identidade(n)\n",
    "    L = np.eye(n)\n",
    "    \n",
    "    # Escreva o seu código aqui\n",
    "    for j in range(n-1):\n",
    "        \n",
    "        ## Escolhe o pivô\n",
    "        #houve_troca = escolhe_pivo(j,A,b) #Não sei se precisa\n",
    "        \n",
    "        ## Para cada linha i\n",
    "        for i in range(j+1,n):        \n",
    "            \n",
    "            ## Calcula o fator m\n",
    "            m = -A[i][j]/A[j][j]\n",
    "            \n",
    "            ## Atualiza a linha i da matriz, percorrendo todas as colunas j\n",
    "            A[i] = [elem1 + elem2 for elem1,elem2 in zip(A[i],list(map(lambda x: x*m,A[j])))]\n",
    "            \n",
    "            ## Zera o elemento Aik\n",
    "            A[i][j] = 0 #Na minha opinião não precisa, não entendi porque precisa\n",
    "            \n",
    "            L[i][j] = -m\n",
    "    \n",
    "    return (L, np.array(A))"
   ]
  },
  {
   "cell_type": "markdown",
   "metadata": {},
   "source": [
    "Vamos testar a função com o seguinte exemplo:"
   ]
  },
  {
   "cell_type": "code",
   "execution_count": 8,
   "metadata": {},
   "outputs": [
    {
     "name": "stdout",
     "output_type": "stream",
     "text": [
      "L: \n",
      "    1.000     0.000     0.000 \n",
      "   -2.000     1.000     0.000 \n",
      "    4.000     3.000     1.000 \n",
      "\n",
      "U: \n",
      "    1.000    -3.000     2.000 \n",
      "    0.000     2.000     3.000 \n",
      "    0.000     0.000   -12.000 \n",
      "\n"
     ]
    }
   ],
   "source": [
    "def formata_matriz(M):\n",
    "    m = len(M) # número de linhas\n",
    "    n = len(M[0]) # número de colunas\n",
    "    s = \"\"\n",
    "    for i in range(m):\n",
    "        for j in range(n):\n",
    "           s += \"%9.3f \" % M[i][j]\n",
    "        s += \"\\n\"\n",
    "    return s\n",
    "\n",
    "A = [[1, -3, 2],\n",
    "     [-2, 8, -1],\n",
    "     [4, -6, 5]]\n",
    "(L, U) = lu(A)\n",
    "print(\"L: \\n%s\" % formata_matriz(L))\n",
    "print(\"U: \\n%s\" % formata_matriz(U))"
   ]
  },
  {
   "cell_type": "markdown",
   "metadata": {},
   "source": [
    "Se estiver tudo ok, ao executar a célula acima, você deve ver a resposta:\n",
    "```\n",
    "L: \n",
    "    1.000     0.000     0.000 \n",
    "   -2.000     1.000     0.000 \n",
    "    4.000     3.000     1.000 \n",
    "\n",
    "U: \n",
    "    1.000    -3.000     2.000 \n",
    "    0.000     2.000     3.000 \n",
    "    0.000     0.000   -12.000\n",
    "```"
   ]
  },
  {
   "cell_type": "markdown",
   "metadata": {},
   "source": [
    "### Resolução de sistema linear usando decomposição LU\n",
    "\n",
    "Agora vamos implementar a função **resolve_lu(A,b)**.\n",
    "Antes disso, copie e cole a sua função substituicoes_retroativas implementada no notebook gauss.ipynb.\n",
    "\n",
    "\n",
    "Implemente a função resolve_lu, seguindo a estratégia a seguir:\n",
    "\n",
    " 1. Decomponha a matriz A em matrizes L e U usando a função lu.\n",
    "\n",
    " 2. Resolva o sistema Ly=b.\n",
    "\n",
    " 3. Resolva o sistema Ux=y.\n",
    "\n",
    " 4. Retorne x."
   ]
  },
  {
   "cell_type": "code",
   "execution_count": 9,
   "metadata": {},
   "outputs": [],
   "source": [
    "def substituicoes_retroativas(A, b):\n",
    "    '''Executa o método das substituições retroativas para resolver o sistema \n",
    "       linear triangular superior Ax=b.\n",
    "       Parâmetros de entrada: A é uma matriz triangular superior e b é o vetor constante. \n",
    "    '''\n",
    "    ## n é a ordem da matriz A\n",
    "    n = len(A)\n",
    "    \n",
    "    ## inicializa o vetor x com tamanho n e elementos iguais a 0\n",
    "    x = n * [0] \n",
    "    \n",
    "    # escreva o seu código aqui\n",
    "    A = A[::-1]\n",
    "    b = b[::-1]\n",
    "    \n",
    "    for i in range(n):\n",
    "        x[i] = (b[i] - sum([elem1*elem2 for elem1,elem2 in zip(x[0:i][::-1],A[i][n-i:n])]))/A[i][n - 1 -i]\n",
    "         \n",
    "    return x[::-1]\n",
    "\n",
    "def resolve_lu(A,b):\n",
    "    '''\n",
    "    Executa o método LU para resolver o sistema  linear Ax=b.\n",
    "    Esse método inicialmente decompõe a matriz em L e U e depois resolve os \n",
    "    dois sistemas lineares triangulares.\n",
    "    Parâmetros de entrada: A é uma matriz quadrada de ordem n e b é o vetor constante.\n",
    "    Saída: vetor x solução do sistema.\n",
    "    '''\n",
    "    \n",
    "    # Escreva o seu código aqui\n",
    "    (L,U)= lu(A)\n",
    "    \n",
    "    y = substituicoes_sucessivas(L,b)\n",
    "    x = substituicoes_retroativas(U,y)\n",
    "    \n",
    "    return x"
   ]
  },
  {
   "cell_type": "markdown",
   "metadata": {},
   "source": [
    "Vamos testar a função com o seguinte exemplo:"
   ]
  },
  {
   "cell_type": "code",
   "execution_count": 10,
   "metadata": {},
   "outputs": [
    {
     "name": "stdout",
     "output_type": "stream",
     "text": [
      "[2.0, -1.0, 3.0]\n"
     ]
    }
   ],
   "source": [
    "A = [[1, -3, 2],\n",
    "     [-2, 8, -1],\n",
    "     [4, -6, 5]]\n",
    "b = [11, -15, 29]\n",
    "x = resolve_lu(A,b)\n",
    "print(x)"
   ]
  },
  {
   "cell_type": "markdown",
   "metadata": {},
   "source": [
    "Se tudo deu certo, você deve obter a seguinte resposta:\n",
    "\n",
    "```\n",
    "[2.0, -1.0, 3.0]\n",
    "\n",
    "```\n",
    "\n",
    "## Exercício\n",
    "\n",
    "Resolva o sistema linear abaixo usando decomposição LU.\n",
    "\n",
    "$\\left[\\begin{array}{rrr}\n",
    "1& 2 & 4\\\\\n",
    "2& 0 & 2\\\\\n",
    "4& 1 & 3\\\\\n",
    "\\end{array}\\right] \\left[\\begin{array}{c}\n",
    "x_1\\\\\n",
    "x_2\\\\\n",
    "x_3\\\\\n",
    "\\end{array}\\right] = \\left[\\begin{array}{r}\n",
    "13\\\\\n",
    "12\\\\\n",
    "25\\\\\n",
    "\\end{array}\\right] $\n"
   ]
  },
  {
   "cell_type": "code",
   "execution_count": 18,
   "metadata": {},
   "outputs": [],
   "source": [
    "A = [[1,1,1],[2,1,-1],[3,2,0]]"
   ]
  },
  {
   "cell_type": "code",
   "execution_count": 19,
   "metadata": {},
   "outputs": [],
   "source": [
    "(L,U ) = lu(A)"
   ]
  },
  {
   "cell_type": "code",
   "execution_count": 20,
   "metadata": {},
   "outputs": [
    {
     "data": {
      "text/plain": [
       "array([[1., 0., 0.],\n",
       "       [2., 1., 0.],\n",
       "       [3., 1., 1.]])"
      ]
     },
     "execution_count": 20,
     "metadata": {},
     "output_type": "execute_result"
    }
   ],
   "source": [
    "L"
   ]
  },
  {
   "cell_type": "code",
   "execution_count": 21,
   "metadata": {},
   "outputs": [
    {
     "data": {
      "text/plain": [
       "array([[ 1.,  1.,  1.],\n",
       "       [ 0., -1., -3.],\n",
       "       [ 0.,  0.,  0.]])"
      ]
     },
     "execution_count": 21,
     "metadata": {},
     "output_type": "execute_result"
    }
   ],
   "source": [
    "U"
   ]
  }
 ],
 "metadata": {
  "kernelspec": {
   "display_name": "Python 3",
   "language": "python",
   "name": "python3"
  },
  "language_info": {
   "codemirror_mode": {
    "name": "ipython",
    "version": 3
   },
   "file_extension": ".py",
   "mimetype": "text/x-python",
   "name": "python",
   "nbconvert_exporter": "python",
   "pygments_lexer": "ipython3",
   "version": "3.6.5"
  }
 },
 "nbformat": 4,
 "nbformat_minor": 2
}
