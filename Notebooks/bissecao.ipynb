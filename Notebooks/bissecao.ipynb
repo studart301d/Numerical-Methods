{
 "cells": [
  {
   "cell_type": "markdown",
   "metadata": {},
   "source": [
    "# Método da Bisseção\n",
    "## Objetivo\n",
    "O objetivo desse notebook é implementar o método da Bisseção em Python e aplicá-lo para achar as raízes de equações não lineares.\n",
    "\n",
    "## Implementação\n",
    "Nós iremos implementar o algoritmo parte por parte, de acordo com a estratégia mostrada em sala. As instruções estão nos comentários na função abaixo. Você só precisa editar onde estiver indicado. \n",
    "\n",
    "Para executar uma célula, selecione a célula e pressione ```Ctrl + Enter```. Após implementar a função ```bissecao``` você deve executar cada uma das células, preferencialmente na ordem em que elas aparecem.\n"
   ]
  },
  {
   "cell_type": "code",
   "execution_count": 1,
   "metadata": {},
   "outputs": [],
   "source": [
    "from sympy import * #Usar na derivada\n",
    "\n",
    "def bissecao(f, a, b, epsilon, maxIter = 50):\n",
    "    \n",
    "    \"\"\"Executa o método da bisseção para achar o zero de f no intervalo \n",
    "       [a,b] com precisão epsilon. O método executa no máximo maxIter\n",
    "       iterações.\n",
    "       Retorna uma tupla (houveErro, raiz), onde houveErro é booleano.\n",
    "    \"\"\"\n",
    "    ## Inicializar as variáveis Fa e Fb\n",
    "    Fa = f(a)\n",
    "    Fb = f(b)\n",
    "    \n",
    "    ## Teste para saber se a função muda de sinal. Se não mudar, mostrar\n",
    "    ## mensagem de erro\n",
    "    if (Fa*Fb) > 0 :#and (diff(Fa)*diff(Fb) >0):\n",
    "        ## Mostrar mensagem\n",
    "        print(\"Erro! A função não muda de sinal.\")\n",
    "        return (True, None)\n",
    "    \n",
    "    ## Mostra na tela cabeçalho da tabela\n",
    "    print(\"k\\t  a\\t\\t  fa\\t\\t  b\\t\\t  fb\\t\\t  x\\t\\t  fx\\t\\tintervX\")\n",
    "    \n",
    "    ## Inicializa tamanho do intervalo intervX usando a função abs, x e Fx\n",
    "    intervX = abs( b - a)\n",
    "    x = (a + b)/2\n",
    "    Fx = f(x)\n",
    "    \n",
    "    ## Mostra dados de inicialização\n",
    "    print(\"-\\t%e\\t%e\\t%e\\t%e\\t%e\\t%e\\t%e\" % (a, Fa, b, Fb, x, Fx, intervX))\n",
    "    \n",
    "    ## Teste se intervalo já é do tamanho da precisão e retorna a raiz sem erros\n",
    "    # escreva o seu código aqui \n",
    "    if intervX < epsilon:\n",
    "        return (False, x)\n",
    "    \n",
    "    \n",
    "    ## Iniciliza o k\n",
    "    k = 1\n",
    "    \n",
    "    ## laço\n",
    "    while k <= maxIter:\n",
    "        ## Testes para saber se a raiz está entre a e x ou entre x e b e atualiza\n",
    "        ## as variáveis apropriadamente\n",
    "        \n",
    "        if Fa*Fx > 0 and Fx != 0:\n",
    "            a = x\n",
    "            Fa = f(a)\n",
    "        else:\n",
    "            b = x\n",
    "            Fb = f(b)\n",
    "        \n",
    "        ## Atualiza intervX, x, e Fx\n",
    "        intervX = abs( b - a)\n",
    "        x = (a + b)/2\n",
    "        Fx = f(x)\n",
    "        \n",
    "        \n",
    "        ## Mostra valores na tela\n",
    "        print(\"%d\\t%e\\t%e\\t%e\\t%e\\t%e\\t%e\\t%e\"%(k, a, Fa, b, Fb, x, Fx, intervX))\n",
    "        \n",
    "        ## Teste do critério de parada (usando apenas o tamanho do intervalo)\n",
    "        if intervX < epsilon :\n",
    "            return(False, x)\n",
    "        \n",
    "        ## Atualiza o k\n",
    "        k = k+1\n",
    "    ## Se chegar aqui é porque o número máximo de iterações foi atingido\n",
    "    ## Mostrar uma mensagem de erro e retorna que houve erro e a última raiz encontrada\n",
    "    print(\"ERRO! número máximo de iterações atingido.\")\n",
    "    return (True, x)"
   ]
  },
  {
   "cell_type": "markdown",
   "metadata": {},
   "source": [
    "Agora precisamos testar se a função está implementada corretamente. Iremos usar o exemplo mostrado em sala: f(x) = x^3-9x+3. Inicialmente vamos definir a função f:"
   ]
  },
  {
   "cell_type": "code",
   "execution_count": 2,
   "metadata": {},
   "outputs": [],
   "source": [
    "def f(x):\n",
    "    return x**3 - 9*x + 3"
   ]
  },
  {
   "cell_type": "markdown",
   "metadata": {},
   "source": [
    "Você pode testar a função usando print(f(0))"
   ]
  },
  {
   "cell_type": "code",
   "execution_count": 3,
   "metadata": {},
   "outputs": [
    {
     "name": "stdout",
     "output_type": "stream",
     "text": [
      "3\n"
     ]
    }
   ],
   "source": [
    "print(f(0))"
   ]
  },
  {
   "cell_type": "markdown",
   "metadata": {},
   "source": [
    "Depois iremos definir os parâmetros que serão passados para a função bissecao:"
   ]
  },
  {
   "cell_type": "code",
   "execution_count": 4,
   "metadata": {},
   "outputs": [],
   "source": [
    "a = 0\n",
    "b = 1\n",
    "epsilon = 0.001\n",
    "maxIter = 20"
   ]
  },
  {
   "cell_type": "markdown",
   "metadata": {},
   "source": [
    "Agora podemos chamar a função bissecao com os parâmetros definidos. Lembre-se de que a função retorna uma tupla:"
   ]
  },
  {
   "cell_type": "code",
   "execution_count": 5,
   "metadata": {},
   "outputs": [
    {
     "name": "stdout",
     "output_type": "stream",
     "text": [
      "k\t  a\t\t  fa\t\t  b\t\t  fb\t\t  x\t\t  fx\t\tintervX\n",
      "-\t0.000000e+00\t3.000000e+00\t1.000000e+00\t-5.000000e+00\t5.000000e-01\t-1.375000e+00\t1.000000e+00\n",
      "1\t0.000000e+00\t3.000000e+00\t5.000000e-01\t-1.375000e+00\t2.500000e-01\t7.656250e-01\t5.000000e-01\n",
      "2\t2.500000e-01\t7.656250e-01\t5.000000e-01\t-1.375000e+00\t3.750000e-01\t-3.222656e-01\t2.500000e-01\n",
      "3\t2.500000e-01\t7.656250e-01\t3.750000e-01\t-3.222656e-01\t3.125000e-01\t2.180176e-01\t1.250000e-01\n",
      "4\t3.125000e-01\t2.180176e-01\t3.750000e-01\t-3.222656e-01\t3.437500e-01\t-5.313110e-02\t6.250000e-02\n",
      "5\t3.125000e-01\t2.180176e-01\t3.437500e-01\t-5.313110e-02\t3.281250e-01\t8.220291e-02\t3.125000e-02\n",
      "6\t3.281250e-01\t8.220291e-02\t3.437500e-01\t-5.313110e-02\t3.359375e-01\t1.447439e-02\t1.562500e-02\n",
      "7\t3.359375e-01\t1.447439e-02\t3.437500e-01\t-5.313110e-02\t3.398438e-01\t-1.934391e-02\t7.812500e-03\n",
      "8\t3.359375e-01\t1.447439e-02\t3.398438e-01\t-1.934391e-02\t3.378906e-01\t-2.438627e-03\t3.906250e-03\n",
      "9\t3.359375e-01\t1.447439e-02\t3.378906e-01\t-2.438627e-03\t3.369141e-01\t6.016918e-03\t1.953125e-03\n",
      "10\t3.369141e-01\t6.016918e-03\t3.378906e-01\t-2.438627e-03\t3.374023e-01\t1.788904e-03\t9.765625e-04\n"
     ]
    }
   ],
   "source": [
    "(houveErro, raiz) = bissecao(f, a, b, epsilon, maxIter)"
   ]
  },
  {
   "cell_type": "markdown",
   "metadata": {},
   "source": [
    "Ao executar a célula acima, você verá a tabela de resultados como vista em sala. Agora precisamos testar o valor de houveErro e mostrar a raiz se não houver erro:"
   ]
  },
  {
   "cell_type": "code",
   "execution_count": 7,
   "metadata": {},
   "outputs": [
    {
     "name": "stdout",
     "output_type": "stream",
     "text": [
      "Raiz encontrada: 0.33740234375\n"
     ]
    }
   ],
   "source": [
    "if houveErro:\n",
    "    print(\"O Método da Bisseção retornou um erro.\")\n",
    "if raiz is not None:\n",
    "    print(\"Raiz encontrada: %s\" % raiz)"
   ]
  },
  {
   "cell_type": "code",
   "execution_count": 10,
   "metadata": {},
   "outputs": [
    {
     "name": "stdout",
     "output_type": "stream",
     "text": [
      "k\t  a\t\t  fa\t\t  b\t\t  fb\t\t  x\t\t  fx\t\tintervX\n",
      "-\t3.376080e-01\t8.276829e-06\t3.376090e-01\t-3.812321e-07\t3.376085e-01\t3.947798e-06\t1.000000e-06\n"
     ]
    },
    {
     "data": {
      "text/plain": [
       "(False, 0.33760849999788534)"
      ]
     },
     "execution_count": 10,
     "metadata": {},
     "output_type": "execute_result"
    }
   ],
   "source": [
    "bissecao(f, 0.3376079999978853, 0.3376089999978853, epsilon, maxIter)"
   ]
  },
  {
   "cell_type": "code",
   "execution_count": 12,
   "metadata": {},
   "outputs": [
    {
     "data": {
      "text/plain": [
       "3.947798364212218e-06"
      ]
     },
     "execution_count": 12,
     "metadata": {},
     "output_type": "execute_result"
    }
   ],
   "source": [
    "f(0.33760849999788534)"
   ]
  },
  {
   "cell_type": "code",
   "execution_count": 13,
   "metadata": {},
   "outputs": [
    {
     "data": {
      "text/plain": [
       "0.0017889043083414435"
      ]
     },
     "execution_count": 13,
     "metadata": {},
     "output_type": "execute_result"
    }
   ],
   "source": [
    "f(0.33740234375)"
   ]
  },
  {
   "cell_type": "markdown",
   "metadata": {},
   "source": [
    "Se tudo deu certo, ao executar a célula acima, você deverá ver:\n",
    "\n",
    "```Raiz encontrada: 0.33740234375```"
   ]
  },
  {
   "cell_type": "markdown",
   "metadata": {},
   "source": [
    "## Exercício\n",
    "\n",
    "Modifique os valores de a e b na célula em que eles foram definidos para achar as outras duas raízes da função. Após editar a célula, execute o notebook novamente."
   ]
  },
  {
   "cell_type": "code",
   "execution_count": 185,
   "metadata": {},
   "outputs": [],
   "source": [
    "a = 1.1\n",
    "b = 10\n",
    "epsilon = 0.0001\n",
    "maxIter = (np.log10(b - a) - np.log10(epsilon))/np.log10(2) +1"
   ]
  },
  {
   "cell_type": "code",
   "execution_count": 186,
   "metadata": {},
   "outputs": [
    {
     "name": "stdout",
     "output_type": "stream",
     "text": [
      "k\t  a\t\t  fa\t\t  b\t\t  fb\t\t  x\t\t  fx\t\tintervX\n",
      "-\t1.100000e+00\t-5.569000e+00\t1.000000e+01\t9.130000e+02\t5.550000e+00\t1.240039e+02\t8.900000e+00\n",
      "1\t1.100000e+00\t-5.569000e+00\t5.550000e+00\t1.240039e+02\t3.325000e+00\t9.834953e+00\t4.450000e+00\n",
      "2\t1.100000e+00\t-5.569000e+00\t3.325000e+00\t9.834953e+00\t2.212500e+00\t-6.081967e+00\t2.225000e+00\n",
      "3\t2.212500e+00\t-6.081967e+00\t3.325000e+00\t9.834953e+00\t2.768750e+00\t-6.935774e-01\t1.112500e+00\n",
      "4\t2.768750e+00\t-6.935774e-01\t3.325000e+00\t9.834953e+00\t3.046875e+00\t3.863628e+00\t5.562500e-01\n",
      "5\t2.768750e+00\t-6.935774e-01\t3.046875e+00\t3.863628e+00\t2.907813e+00\t1.416328e+00\t2.781250e-01\n",
      "6\t2.768750e+00\t-6.935774e-01\t2.907813e+00\t1.416328e+00\t2.838281e+00\t3.202097e-01\t1.390625e-01\n",
      "7\t2.768750e+00\t-6.935774e-01\t2.838281e+00\t3.202097e-01\t2.803516e+00\t-1.968493e-01\t6.953125e-02\n",
      "8\t2.803516e+00\t-1.968493e-01\t2.838281e+00\t3.202097e-01\t2.820898e+00\t5.912310e-02\t3.476563e-02\n",
      "9\t2.803516e+00\t-1.968493e-01\t2.820898e+00\t5.912310e-02\t2.812207e+00\t-6.950039e-02\t1.738281e-02\n",
      "10\t2.812207e+00\t-6.950039e-02\t2.820898e+00\t5.912310e-02\t2.816553e+00\t-5.348220e-03\t8.691406e-03\n",
      "11\t2.816553e+00\t-5.348220e-03\t2.820898e+00\t5.912310e-02\t2.818726e+00\t2.684751e-02\t4.345703e-03\n",
      "12\t2.816553e+00\t-5.348220e-03\t2.818726e+00\t2.684751e-02\t2.817639e+00\t1.073967e-02\t2.172852e-03\n",
      "13\t2.816553e+00\t-5.348220e-03\t2.817639e+00\t1.073967e-02\t2.817096e+00\t2.693231e-03\t1.086426e-03\n",
      "14\t2.816553e+00\t-5.348220e-03\t2.817096e+00\t2.693231e-03\t2.816824e+00\t-1.328118e-03\t5.432129e-04\n",
      "15\t2.816824e+00\t-1.328118e-03\t2.817096e+00\t2.693231e-03\t2.816960e+00\t6.824005e-04\t2.716064e-04\n",
      "16\t2.816824e+00\t-1.328118e-03\t2.816960e+00\t6.824005e-04\t2.816892e+00\t-3.228978e-04\t1.358032e-04\n",
      "17\t2.816892e+00\t-3.228978e-04\t2.816960e+00\t6.824005e-04\t2.816926e+00\t1.797416e-04\t6.790161e-05\n"
     ]
    }
   ],
   "source": [
    "(houveErro, raiz) = bissecao(f, a, b, epsilon, maxIter)"
   ]
  },
  {
   "cell_type": "code",
   "execution_count": 187,
   "metadata": {},
   "outputs": [
    {
     "name": "stdout",
     "output_type": "stream",
     "text": [
      "Raiz encontrada: 2.8169261932373053\n"
     ]
    }
   ],
   "source": [
    "if houveErro:\n",
    "    print(\"O Método da Bisseção retornou um erro.\")\n",
    "if raiz is not None:\n",
    "    print(\"Raiz encontrada: %s\" % raiz)"
   ]
  },
  {
   "cell_type": "code",
   "execution_count": 188,
   "metadata": {},
   "outputs": [
    {
     "data": {
      "text/plain": [
       "0.000179741639684039"
      ]
     },
     "execution_count": 188,
     "metadata": {},
     "output_type": "execute_result"
    }
   ],
   "source": [
    "f(2.8169261932373053)"
   ]
  },
  {
   "cell_type": "markdown",
   "metadata": {},
   "source": [
    "-3.15771484375,0.33740234375,2.816824340820313"
   ]
  }
 ],
 "metadata": {
  "kernelspec": {
   "display_name": "Python 3",
   "language": "python",
   "name": "python3"
  },
  "language_info": {
   "codemirror_mode": {
    "name": "ipython",
    "version": 3
   },
   "file_extension": ".py",
   "mimetype": "text/x-python",
   "name": "python",
   "nbconvert_exporter": "python",
   "pygments_lexer": "ipython3",
   "version": "3.6.5"
  }
 },
 "nbformat": 4,
 "nbformat_minor": 2
}
