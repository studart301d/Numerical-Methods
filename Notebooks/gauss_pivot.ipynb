{
 "cells": [
  {
   "cell_type": "markdown",
   "metadata": {},
   "source": [
    "# Método da Eliminação de Gauss com Pivotação Parcial\n",
    "## Objetivo\n",
    "O objetivo desse notebook é implementar o método da eliminação de Gauss com Pivotação Parcial.\n",
    "\n",
    "## Implementação\n",
    "Nós iremos implementar o algoritmo parte por parte, de acordo com a estratégia mostrada em sala. As instruções estão nos comentários nas funções abaixo. Você só precisa editar onde estiver indicado. \n",
    "\n",
    "Para executar uma célula, selecione a célula e pressione ```Ctrl + Enter```. Após implementar as funções abaixo, você deve executar cada uma das células, preferencialmente na ordem em que elas aparecem.\n"
   ]
  },
  {
   "cell_type": "code",
   "execution_count": 1,
   "metadata": {},
   "outputs": [],
   "source": [
    "import numpy as np"
   ]
  },
  {
   "cell_type": "markdown",
   "metadata": {},
   "source": [
    "### Função para escolher o pivô"
   ]
  },
  {
   "cell_type": "code",
   "execution_count": 27,
   "metadata": {},
   "outputs": [],
   "source": [
    "def escolhe_pivo(k, A, b):\n",
    "    '''Escolhe o pivô de maior valor absoluto na coluna k a partir da linha k \n",
    "       da matriz A. Se o pivô estiver numa linha diferente de k, as linhas da\n",
    "       matriz A e do vetor b são trocadas.\n",
    "       Saída: booleano (True se houve troca)\n",
    "    '''\n",
    "    ## n é a ordem da matriz A\n",
    "    n = len(A)\n",
    "    \n",
    "    ## inicializa flag para controlar se houve troca de linha com false\n",
    "    houve_troca = False\n",
    "    ## identifica o elemento de maior valor absoluto e a linha onde ele está\n",
    "    pivo = A[k][k]\n",
    "    for i in range(k,n):\n",
    "        auxPivo = abs(A[i][k])\n",
    "        if auxPivo > pivo :\n",
    "            \n",
    "            houve_troca = True\n",
    "            troca = i\n",
    "            \n",
    "    \n",
    "    ## se k for diferente da linha onde está o pivô, troca a linha k\n",
    "    ## pela linha do pivô em A e b e atribui o valor True à flag\n",
    "\n",
    "    if houve_troca == True:\n",
    "            \n",
    "        aux = A[k]\n",
    "        A[k] = A[troca]\n",
    "        A[troca] = aux\n",
    "            \n",
    "        pivo = auxPivo\n",
    "            \n",
    "        aux = b[k]\n",
    "        b[k] = b[troca]\n",
    "        b[troca] = aux\n",
    "    \n",
    "    ## retorna a flag\n",
    "    return houve_troca\n",
    "    "
   ]
  },
  {
   "cell_type": "markdown",
   "metadata": {},
   "source": [
    "Agora precisamos testar se a função está implementada corretamente. Iremos testar com o exemplo mostrado em sala."
   ]
  },
  {
   "cell_type": "code",
   "execution_count": 17,
   "metadata": {},
   "outputs": [
    {
     "name": "stdout",
     "output_type": "stream",
     "text": [
      "True\n",
      "A = [[3, 1, 0], [1, 2, 3], [0, 3, 4]]\n",
      "b = [4, 3, 3]\n"
     ]
    }
   ],
   "source": [
    "A = [[1, 2, 3],\n",
    "     [3, 1, 0],\n",
    "     [0, 3, 4]]\n",
    "b = [3, 4, 3]\n",
    "## Testaremos com a primeira coluna (k=0)\n",
    "houveTroca = escolhe_pivo(0, A, b)\n",
    "print(houveTroca)\n",
    "print(\"A =\", A)\n",
    "print(\"b =\", b)"
   ]
  },
  {
   "cell_type": "markdown",
   "metadata": {},
   "source": [
    "Se estiver tudo ok, ao executar a célula acima, você deve ver a resposta:\n",
    "```\n",
    "True\n",
    "A = [[3, 1, 0], [1, 2, 3], [0, 3, 4]]\n",
    "b = [4, 3, 3]\n",
    "```"
   ]
  },
  {
   "cell_type": "markdown",
   "metadata": {
    "collapsed": true
   },
   "source": [
    "### Método de Gauss com Pivotação\n",
    "\n",
    "Copie a função ```substituicoes_retroativas``` que você implementou no notebook gauss.ipynb.\n"
   ]
  },
  {
   "cell_type": "code",
   "execution_count": 18,
   "metadata": {},
   "outputs": [],
   "source": [
    "def substituicoes_retroativas(A, b):\n",
    "    '''Executa o método das substituições retroativas para resolver o sistema \n",
    "       linear triangular superior Ax=b.\n",
    "       Parâmetros de entrada: A é uma matriz triangular superior e b é o vetor constante. \n",
    "    '''\n",
    "    ## n é a ordem da matriz A\n",
    "    n = len(A)\n",
    "    \n",
    "    ## inicializa o vetor x com tamanho n e elementos iguais a 0\n",
    "    x = n * [0] \n",
    "    \n",
    "    # escreva o seu código aqui\n",
    "    A = A[::-1]\n",
    "    b = b[::-1]\n",
    "    \n",
    "    for i in range(n):\n",
    "        x[i] = (b[i] - sum([elem1*elem2 for elem1,elem2 in zip(x[0:i][::-1],A[i][n-i:n])]))/A[i][n - 1 -i]\n",
    "         \n",
    "    return x[::-1]"
   ]
  },
  {
   "cell_type": "markdown",
   "metadata": {},
   "source": [
    "Agora copie o conteúdo da função ```gauss``` que você implementou no notebook gauss.ipynb, modificando apenas a parte para escolher o pivô. O resto permanece igual."
   ]
  },
  {
   "cell_type": "code",
   "execution_count": 21,
   "metadata": {},
   "outputs": [],
   "source": [
    "def gauss_pivot(A, b):\n",
    "    '''Executa o método da eliminação de Gauss com pivotação para resolver o sistema  linear Ax=b \n",
    "    transformando o sistema em um sistema triangular superior equivalente.\n",
    "    Parâmetros de entrada: A é uma matriz quadrada de ordem n e b é o vetor constante.\n",
    "    Saída: vetor x\n",
    "    '''\n",
    "    ## n é a ordem da matriz A\n",
    "    n = len(A)\n",
    "       \n",
    "    for j in range(n-1):\n",
    "        ## Escolhe o pivô\n",
    "        houve_troca = escolhe_pivo(j,A,b) \n",
    "        ## Para cada linha i\n",
    "        for i in range(j+1,n):\n",
    "            \n",
    "            ## Calcula o fator m\n",
    "            m = -A[i][j]/A[j][j]\n",
    "            \n",
    "            ## Atualiza a linha i da matriz, percorrendo todas as colunas j\n",
    "            A[i] = [elem1 + elem2 for elem1,elem2 in zip(A[i],list(map(lambda x: x*m,A[j])))]\n",
    "            \n",
    "            # Atualiza o vetor b na linha i\n",
    "            b[i] = b[i] + m*b[j]\n",
    "            \n",
    "            ## Zera o elemento Aik\n",
    "            A[i][j] = 0 #Na minha opinião não precisa, não entendi porque precisa\n",
    "            \n",
    "    ## Agora resolve o sistema triangular superior usando as substituições \n",
    "    ## retroativas\n",
    "    x = substituicoes_retroativas(A, b)\n",
    "    return x"
   ]
  },
  {
   "cell_type": "markdown",
   "metadata": {},
   "source": [
    "**Não se esqueça de executar as células de código acima!**"
   ]
  },
  {
   "cell_type": "markdown",
   "metadata": {},
   "source": [
    "Agora precisamos testar se a função está implementada corretamente. Também iremos usar o exemplo mostrado em sala."
   ]
  },
  {
   "cell_type": "code",
   "execution_count": 30,
   "metadata": {},
   "outputs": [
    {
     "name": "stdout",
     "output_type": "stream",
     "text": [
      "[1.0, 1.0, 0.0]\n"
     ]
    }
   ],
   "source": [
    "A = [[1, 2, 3],\n",
    "     [3, 1, 0],\n",
    "     [0, 3, 4]]\n",
    "b = [3, 4, 3]\n",
    "x = gauss_pivot(A, b)\n",
    "print(x)"
   ]
  },
  {
   "cell_type": "markdown",
   "metadata": {},
   "source": [
    "Se estiver tudo ok, ao executar a célula acima, você deve ver a resposta:\n",
    "```\n",
    "[1.0, 1.0, 0.0]\n",
    "```\n",
    "#### Exercício 1\n",
    "Na célula abaixo, teste o método resolvendo o exercício mostrado em sala:\n",
    "\n",
    "$\\left[\\begin{array}{rrr}\n",
    "1& -3 & 2\\\\\n",
    "-2& 8 & -1\\\\\n",
    "4& -6 & 5\\\\\n",
    "\\end{array}\\right] \\left[\\begin{array}{c}\n",
    "x_1\\\\\n",
    "x_2\\\\\n",
    "x_3\\\\\n",
    "\\end{array}\\right] = \\left[\\begin{array}{r}\n",
    "11\\\\\n",
    "-15\\\\\n",
    "29\\\\\n",
    "\\end{array}\\right] $"
   ]
  },
  {
   "cell_type": "code",
   "execution_count": 29,
   "metadata": {},
   "outputs": [
    {
     "name": "stdout",
     "output_type": "stream",
     "text": [
      "[2.0, -1.0, 3.0]\n"
     ]
    }
   ],
   "source": [
    "## Defina a matriz A e o vetor b e chame a função gauss_pivot\n",
    "# Escreva o seu código aqui\n",
    "A = [[1, -3, 2],\n",
    "     [-2, 8, -1],\n",
    "     [4, -6, 5]]\n",
    "b = [11, -15, 29]\n",
    "x = gauss_pivot(A, b)\n",
    "print(x)"
   ]
  },
  {
   "cell_type": "markdown",
   "metadata": {},
   "source": [
    "#### Exercício 2\n",
    "Na célula abaixo, o seguinte sistema linear:\n",
    "\n",
    "$\\left[\\begin{array}{rrr}\n",
    "3& 2 & 4\\\\\n",
    "1& 1 & 2\\\\\n",
    "4& 3 & -2\\\\\n",
    "\\end{array}\\right] \\left[\\begin{array}{c}\n",
    "x_1\\\\\n",
    "x_2\\\\\n",
    "x_3\\\\\n",
    "\\end{array}\\right] = \\left[\\begin{array}{r}\n",
    "1\\\\\n",
    "2\\\\\n",
    "3\\\\\n",
    "\\end{array}\\right] $"
   ]
  },
  {
   "cell_type": "code",
   "execution_count": 28,
   "metadata": {},
   "outputs": [
    {
     "name": "stdout",
     "output_type": "stream",
     "text": [
      "[-3.0, 5.0, 0.0]\n"
     ]
    }
   ],
   "source": [
    "## Defina a matriz A e o vetor b e chame a função gauss_pivot\n",
    "# Escreva o seu código aqui\n",
    "A = [[ 3, 2, 4],\n",
    "     [ 1, 1, 2],\n",
    "     [ 4, 3, -2]]\n",
    "b = [1, 2, 3]\n",
    "x = gauss_pivot(A, b)\n",
    "print(x)"
   ]
  },
  {
   "cell_type": "markdown",
   "metadata": {},
   "source": [
    "### Exercício\n",
    "\n",
    "Modifique o método de gauss com pivotação para também calcular o determinante.\n",
    "Use o valor retornado pela função ```escolhe_pivo``` para controlar o número de permutações, P.\n",
    "\n",
    "$det(A) = (-1)^P \\times det(U)$"
   ]
  },
  {
   "cell_type": "code",
   "execution_count": 25,
   "metadata": {},
   "outputs": [],
   "source": [
    "def gauss_pivot_det(A, b):\n",
    "    '''Executa o método da eliminação de Gauss com pivotação para resolver o sistema  linear Ax=b \n",
    "    transformando o sistema em um sistema triangular superior equivalente.\n",
    "    Parâmetros de entrada: A é uma matriz quadrada de ordem n e b é o vetor constante.\n",
    "    Saída: vetor x\n",
    "    '''\n",
    "    ## n é a ordem da matriz A\n",
    "    n = len(A)\n",
    "    P = 0\n",
    "    \n",
    "    ## Para cada etapa k\n",
    "    for j in range(n-1):\n",
    "        \n",
    "        ## Escolhe o pivô\n",
    "        houve_troca = escolhe_pivo(j,A,b)\n",
    "        if houve_troca == True:\n",
    "            P = P + 1\n",
    "            \n",
    "        ## Para cada linha i\n",
    "        for i in range(j+1,n):\n",
    "            \n",
    "            ## Calcula o fator m\n",
    "            m = -A[i][j]/A[j][j]\n",
    "            \n",
    "            ## Atualiza a linha i da matriz, percorrendo todas as colunas j\n",
    "            A[i] = [elem1 + elem2 for elem1,elem2 in zip(A[i],list(map(lambda x: x*m,A[j])))]\n",
    "            \n",
    "            # Atualiza o vetor b na linha i\n",
    "            b[i] = b[i] + m*b[j]\n",
    "            \n",
    "            ## Zera o elemento Aik\n",
    "            A[i][j] = 0 #Na minha opinião não precisa, não entendi porque precisa\n",
    "    \n",
    "    ## faz o cálculo do determinante antes de chamar as substituições retroativas\n",
    "\n",
    "        \n",
    "    det = 1\n",
    "    for i in range(n):\n",
    "        det = det*A[i][i]\n",
    "    det = ((-1)**P)*det\n",
    "    x = substituicoes_retroativas(A, b)\n",
    "    \n",
    "    return (x, det)"
   ]
  },
  {
   "cell_type": "markdown",
   "metadata": {},
   "source": [
    "Agora teste com o exemplo acima:\n",
    "\n",
    "$\\left[\\begin{array}{rrr}\n",
    "1& -3 & 2\\\\\n",
    "-2& 8 & -1\\\\\n",
    "4& -6 & 5\\\\\n",
    "\\end{array}\\right] \\left[\\begin{array}{c}\n",
    "x_1\\\\\n",
    "x_2\\\\\n",
    "x_3\\\\\n",
    "\\end{array}\\right] = \\left[\\begin{array}{r}\n",
    "11\\\\\n",
    "-15\\\\\n",
    "29\\\\\n",
    "\\end{array}\\right] $"
   ]
  },
  {
   "cell_type": "code",
   "execution_count": 26,
   "metadata": {
    "scrolled": false
   },
   "outputs": [
    {
     "name": "stdout",
     "output_type": "stream",
     "text": [
      "([2.0, -1.0, 3.0], -24.0)\n"
     ]
    }
   ],
   "source": [
    "## Defina a matriz A e o vetor b e chame a função gauss_det\n",
    "# Escreva o seu código aqui\n",
    "A = [[  1, -3,  2],\n",
    "     [ -2,  8, -1],\n",
    "     [  4, -6,  5]]\n",
    "b = [11, -15, 29]\n",
    "x = gauss_pivot_det(A, b)\n",
    "print(x)"
   ]
  },
  {
   "cell_type": "markdown",
   "metadata": {
    "collapsed": true
   },
   "source": [
    "Se tudo deu certo, você deve obter a seguinte resposta:\n",
    "\n",
    "```[2.0, -1.0, 3.0]  -24.0\n",
    "```\n"
   ]
  }
 ],
 "metadata": {
  "kernelspec": {
   "display_name": "Python 3",
   "language": "python",
   "name": "python3"
  },
  "language_info": {
   "codemirror_mode": {
    "name": "ipython",
    "version": 3
   },
   "file_extension": ".py",
   "mimetype": "text/x-python",
   "name": "python",
   "nbconvert_exporter": "python",
   "pygments_lexer": "ipython3",
   "version": "3.6.5"
  }
 },
 "nbformat": 4,
 "nbformat_minor": 2
}
