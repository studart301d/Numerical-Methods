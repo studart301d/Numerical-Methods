{
 "cells": [
  {
   "cell_type": "markdown",
   "metadata": {},
   "source": [
    "# Método da Posição Falsa\n",
    "## Objetivo\n",
    "O objetivo desse notebook é implementar o método da Posição Falsa em Python e aplicá-lo para achar as raízes de equações não lineares.\n",
    "\n",
    "## Implementação\n",
    "Nós iremos implementar o algoritmo parte por parte, de acordo com a estratégia mostrada em sala. As instruções estão nos comentários na função abaixo. Você só precisa editar onde estiver indicado. \n",
    "\n",
    "Para executar uma célula, selecione a célula e pressione ```Ctrl + Enter```. Após implementar a função ```false_pos``` você deve executar cada uma das células, preferencialmente na ordem em que elas aparecem.\n"
   ]
  },
  {
   "cell_type": "code",
   "execution_count": 2,
   "metadata": {},
   "outputs": [],
   "source": [
    "def false_pos(f, a, b, epsilon, maxIter = 50):\n",
    "    \n",
    "    \"\"\"Executa o método da Posição Falsa para achar o zero de f no intervalo \n",
    "       [a,b] com precisão epsilon. O método executa no máximo maxIter\n",
    "       iterações.\n",
    "       Retorna uma tupla (houveErro, raiz), onde houveErro é booleano.\n",
    "    \"\"\"\n",
    "    ## Inicializar as variáveis Fa e Fb\n",
    "    Fa = f(a)\n",
    "    Fb = f(b)\n",
    "    \n",
    "    ## Teste para saber se a função muda de sinal. Se não mudar, mostrar\n",
    "    ## mensagem de erro\n",
    "    if Fa*Fb > 0 :\n",
    "        print(\"Erro! A função não muda de sinal.\")\n",
    "        return (True, None)\n",
    "    \n",
    "    ## Inicializa o tamanho do intervalo intervX usando a função abs\n",
    "    intervX = abs(b - a)\n",
    "    \n",
    "    ## Teste se intervalo já é do tamanho da precisão e retorna a raiz sem erros\n",
    "    if intervX < epsilon:\n",
    "        x = (a*f(b) - b*f(a))/(f(b) - f(a))\n",
    "        return (False,x)\n",
    "    \n",
    "    ## Testes se raiz está nos extremos dos intervalos\n",
    "    \n",
    "    ## Teste se a é raiz, se for, retorna o próprio a sem erros\n",
    "    if Fa == 0:\n",
    "        return (False,a)\n",
    "    \n",
    "    ## Teste se b é raiz, se for, retorna o próprio b sem erros\n",
    "    if Fb == 0:\n",
    "        return (False,b)\n",
    "    \n",
    "    ## Mostra na tela cabeçalho da tabela\n",
    "    print(\"k\\t  a\\t\\t  Fa\\t\\t  b\\t\\t  Fb\\t\\t  x\\t\\t  Fx\\t\\tintervX\")\n",
    "    \n",
    "    ## Iniciliza o k, dessa vez usaremos um for\n",
    "    for k in range(1, maxIter+1):\n",
    "        ## Calcula x, Fx\n",
    "        x = (a*f(b) - b*f(a))/(f(b) - f(a))\n",
    "        Fx = f(x)\n",
    "        \n",
    "        ## Mostra valores na tela\n",
    "        print(\"%d\\t%e\\t%e\\t%e\\t%e\\t%e\\t%e\\t%e\"%(k,a, Fa, b, Fb, x, Fx, intervX))\n",
    "        \n",
    "        ## Teste do critério de parada módulo da função\n",
    "        if abs(Fx) < epsilon:\n",
    "            return(False,x)\n",
    "        \n",
    "        ## Testes para saber se a raiz está entre a e x ou entre x e b e atualiza\n",
    "        ## as variáveis apropriadamente\n",
    "        \n",
    "        if Fa * Fx > 0 :\n",
    "            a = x\n",
    "            Fa = Fx\n",
    "        else:\n",
    "            b = x\n",
    "            Fb = Fx\n",
    "        \n",
    "        ## Atualiza intervX e checa o outro critério de parada: tamanho do intervalo\n",
    "        intervX = abs(b - a)\n",
    "        if intervX < epsilon:\n",
    "            return(False,x)\n",
    "       \n",
    "    ## Mostrar uma mensagem de erro e retorna que houve erro e a última raiz encontrada\n",
    "    print(\"ERRO! número máximo de iterações atingido.\")\n",
    "    return (True, x)\n"
   ]
  },
  {
   "cell_type": "markdown",
   "metadata": {},
   "source": [
    "from timeit import default_timer as timer\n",
    "start = timer ()\n",
    "#algoritimo\n",
    "end = timer()\n",
    "print(\"Tempo de execução total: %e segundos\"%(end - start))"
   ]
  },
  {
   "cell_type": "code",
   "execution_count": null,
   "metadata": {},
   "outputs": [],
   "source": []
  },
  {
   "cell_type": "markdown",
   "metadata": {},
   "source": [
    "Agora precisamos testar se a função está implementada corretamente. Iremos usar o exemplo mostrado em sala: f(x) = x^3-9x+3. Inicialmente vamos definir a função f:"
   ]
  },
  {
   "cell_type": "code",
   "execution_count": 3,
   "metadata": {},
   "outputs": [],
   "source": [
    "def f(x):\n",
    "    return x**3 - 9*x + 3"
   ]
  },
  {
   "cell_type": "markdown",
   "metadata": {},
   "source": [
    "Não se esqueça de executar as células de código acima"
   ]
  },
  {
   "cell_type": "markdown",
   "metadata": {},
   "source": [
    "Depois iremos definir os parâmetros que serão passados para a função bissecao:"
   ]
  },
  {
   "cell_type": "code",
   "execution_count": 4,
   "metadata": {},
   "outputs": [],
   "source": [
    "a = 0\n",
    "b = 1\n",
    "epsilon = 0.001\n",
    "maxIter = 20"
   ]
  },
  {
   "cell_type": "markdown",
   "metadata": {},
   "source": [
    "Agora podemos chamar a função ```false_pos``` com os parâmetros definidos. Lembre-se de que a função retorna uma tupla:"
   ]
  },
  {
   "cell_type": "code",
   "execution_count": 5,
   "metadata": {},
   "outputs": [
    {
     "name": "stdout",
     "output_type": "stream",
     "text": [
      "k\t  a\t\t  Fa\t\t  b\t\t  Fb\t\t  x\t\t  Fx\t\tintervX\n",
      "1\t0.000000e+00\t3.000000e+00\t1.000000e+00\t-5.000000e+00\t3.750000e-01\t-3.222656e-01\t1.000000e+00\n",
      "2\t0.000000e+00\t3.000000e+00\t3.750000e-01\t-3.222656e-01\t3.386243e-01\t-8.790199e-03\t3.750000e-01\n",
      "3\t0.000000e+00\t3.000000e+00\t3.386243e-01\t-8.790199e-03\t3.376350e-01\t-2.258842e-04\t3.386243e-01\n"
     ]
    },
    {
     "data": {
      "text/plain": [
       "(False, 0.33763504551140067)"
      ]
     },
     "execution_count": 5,
     "metadata": {},
     "output_type": "execute_result"
    }
   ],
   "source": [
    "(houveErro, raiz) = false_pos(f, a, b, epsilon, maxIter)"
   ]
  },
  {
   "cell_type": "markdown",
   "metadata": {},
   "source": [
    "Ao executar a célula acima, você verá a tabela de resultados como vista em sala. Agora precisamos testar o valor de houveErro e mostrar a raiz se não houver erro:"
   ]
  },
  {
   "cell_type": "code",
   "execution_count": 5,
   "metadata": {},
   "outputs": [
    {
     "name": "stdout",
     "output_type": "stream",
     "text": [
      "Raiz encontrada: 0.33763504551140067\n"
     ]
    }
   ],
   "source": [
    "if houveErro:\n",
    "    print(\"O Método da Posição Falsa retornou um erro.\")\n",
    "if raiz is not None:\n",
    "    print(\"Raiz encontrada: %s\" % raiz)"
   ]
  },
  {
   "cell_type": "markdown",
   "metadata": {},
   "source": [
    "Se tudo deu certo, ao executar a célula acima, você deverá ver:\n",
    "\n",
    "```Raiz encontrada: 0.33763504551140067```"
   ]
  },
  {
   "cell_type": "markdown",
   "metadata": {},
   "source": [
    "## Exercícios\n",
    "\n",
    "### Exercício 1\n",
    "\n",
    "Modifique os valores de a e b na célula abaixo para achar as outras duas raízes da função. Após editar a célula, execute-a para ver a tabela e a raiz. Quantas iterações foram necessárias?"
   ]
  },
  {
   "cell_type": "code",
   "execution_count": 19,
   "metadata": {
    "scrolled": true
   },
   "outputs": [
    {
     "name": "stdout",
     "output_type": "stream",
     "text": [
      "k\t  a\t\t  Fa\t\t  b\t\t  Fb\t\t  x\t\t  Fx\t\tintervX\n",
      "1\t1.000000e+01\t9.130000e+02\t1.000000e+00\t-5.000000e+00\t1.049020e+00\t-5.286791e+00\t9.000000e+00\n",
      "2\t1.000000e+01\t9.130000e+02\t1.049020e+00\t-5.286791e+00\t1.100552e+00\t-5.571966e+00\t8.950980e+00\n",
      "3\t1.000000e+01\t9.130000e+02\t1.100552e+00\t-5.571966e+00\t1.154536e+00\t-5.851880e+00\t8.899448e+00\n",
      "4\t1.000000e+01\t9.130000e+02\t1.154536e+00\t-5.851880e+00\t1.210870e+00\t-6.122443e+00\t8.845464e+00\n",
      "5\t1.000000e+01\t9.130000e+02\t1.210870e+00\t-6.122443e+00\t1.269416e+00\t-6.379184e+00\t8.789130e+00\n",
      "6\t1.000000e+01\t9.130000e+02\t1.269416e+00\t-6.379184e+00\t1.329993e+00\t-6.617339e+00\t8.730584e+00\n",
      "7\t1.000000e+01\t9.130000e+02\t1.329993e+00\t-6.617339e+00\t1.392381e+00\t-6.831984e+00\t8.670007e+00\n",
      "8\t1.000000e+01\t9.130000e+02\t1.392381e+00\t-6.831984e+00\t1.456313e+00\t-7.018200e+00\t8.607619e+00\n",
      "9\t1.000000e+01\t9.130000e+02\t1.456313e+00\t-7.018200e+00\t1.521487e+00\t-7.171259e+00\t8.543687e+00\n",
      "10\t1.000000e+01\t9.130000e+02\t1.521487e+00\t-7.171259e+00\t1.587564e+00\t-7.286844e+00\t8.478513e+00\n",
      "11\t1.000000e+01\t9.130000e+02\t1.587564e+00\t-7.286844e+00\t1.654173e+00\t-7.361263e+00\t8.412436e+00\n",
      "12\t1.000000e+01\t9.130000e+02\t1.654173e+00\t-7.361263e+00\t1.720925e+00\t-7.391663e+00\t8.345827e+00\n",
      "13\t1.000000e+01\t9.130000e+02\t1.720925e+00\t-7.391663e+00\t1.787414e+00\t-7.376208e+00\t8.279075e+00\n",
      "14\t1.000000e+01\t9.130000e+02\t1.787414e+00\t-7.376208e+00\t1.853233e+00\t-7.314219e+00\t8.212586e+00\n",
      "15\t1.000000e+01\t9.130000e+02\t1.853233e+00\t-7.314219e+00\t1.917980e+00\t-7.206249e+00\t8.146767e+00\n",
      "16\t1.000000e+01\t9.130000e+02\t1.917980e+00\t-7.206249e+00\t1.981271e+00\t-7.054089e+00\t8.082020e+00\n",
      "17\t1.000000e+01\t9.130000e+02\t1.981271e+00\t-7.054089e+00\t2.042751e+00\t-6.860704e+00\t8.018729e+00\n",
      "18\t1.000000e+01\t9.130000e+02\t2.042751e+00\t-6.860704e+00\t2.102099e+00\t-6.630092e+00\t7.957249e+00\n",
      "19\t1.000000e+01\t9.130000e+02\t2.102099e+00\t-6.630092e+00\t2.159039e+00\t-6.367098e+00\t7.897901e+00\n",
      "20\t1.000000e+01\t9.130000e+02\t2.159039e+00\t-6.367098e+00\t2.213342e+00\t-6.077174e+00\t7.840961e+00\n",
      "21\t1.000000e+01\t9.130000e+02\t2.213342e+00\t-6.077174e+00\t2.264829e+00\t-5.766130e+00\t7.786658e+00\n",
      "22\t1.000000e+01\t9.130000e+02\t2.264829e+00\t-5.766130e+00\t2.313375e+00\t-5.439877e+00\t7.735171e+00\n",
      "23\t1.000000e+01\t9.130000e+02\t2.313375e+00\t-5.439877e+00\t2.358903e+00\t-5.104196e+00\t7.686625e+00\n",
      "24\t1.000000e+01\t9.130000e+02\t2.358903e+00\t-5.104196e+00\t2.401383e+00\t-4.764534e+00\t7.641097e+00\n",
      "25\t1.000000e+01\t9.130000e+02\t2.401383e+00\t-4.764534e+00\t2.440831e+00\t-4.425847e+00\t7.598617e+00\n",
      "26\t1.000000e+01\t9.130000e+02\t2.440831e+00\t-4.425847e+00\t2.477298e+00\t-4.092491e+00\t7.559169e+00\n",
      "27\t1.000000e+01\t9.130000e+02\t2.477298e+00\t-4.092491e+00\t2.510868e+00\t-3.768152e+00\t7.522702e+00\n",
      "28\t1.000000e+01\t9.130000e+02\t2.510868e+00\t-3.768152e+00\t2.541650e+00\t-3.455830e+00\t7.489132e+00\n",
      "29\t1.000000e+01\t9.130000e+02\t2.541650e+00\t-3.455830e+00\t2.569774e+00\t-3.157846e+00\t7.458350e+00\n",
      "30\t1.000000e+01\t9.130000e+02\t2.569774e+00\t-3.157846e+00\t2.595385e+00\t-2.875889e+00\t7.430226e+00\n",
      "31\t1.000000e+01\t9.130000e+02\t2.595385e+00\t-2.875889e+00\t2.618636e+00\t-2.611070e+00\t7.404615e+00\n",
      "32\t1.000000e+01\t9.130000e+02\t2.618636e+00\t-2.611070e+00\t2.639686e+00\t-2.363999e+00\t7.381364e+00\n",
      "33\t1.000000e+01\t9.130000e+02\t2.639686e+00\t-2.363999e+00\t2.658694e+00\t-2.134856e+00\t7.360314e+00\n",
      "34\t1.000000e+01\t9.130000e+02\t2.658694e+00\t-2.134856e+00\t2.675820e+00\t-1.923472e+00\t7.341306e+00\n",
      "35\t1.000000e+01\t9.130000e+02\t2.675820e+00\t-1.923472e+00\t2.691218e+00\t-1.729399e+00\t7.324180e+00\n",
      "36\t1.000000e+01\t9.130000e+02\t2.691218e+00\t-1.729399e+00\t2.705036e+00\t-1.551979e+00\t7.308782e+00\n",
      "37\t1.000000e+01\t9.130000e+02\t2.705036e+00\t-1.551979e+00\t2.717416e+00\t-1.390399e+00\t7.294964e+00\n",
      "38\t1.000000e+01\t9.130000e+02\t2.717416e+00\t-1.390399e+00\t2.728489e+00\t-1.243745e+00\t7.282584e+00\n",
      "39\t1.000000e+01\t9.130000e+02\t2.728489e+00\t-1.243745e+00\t2.738382e+00\t-1.111041e+00\t7.271511e+00\n",
      "40\t1.000000e+01\t9.130000e+02\t2.738382e+00\t-1.111041e+00\t2.747208e+00\t-9.912823e-01\t7.261618e+00\n",
      "41\t1.000000e+01\t9.130000e+02\t2.747208e+00\t-9.912823e-01\t2.755074e+00\t-8.834666e-01\t7.252792e+00\n",
      "42\t1.000000e+01\t9.130000e+02\t2.755074e+00\t-8.834666e-01\t2.762077e+00\t-7.866095e-01\t7.244926e+00\n",
      "43\t1.000000e+01\t9.130000e+02\t2.762077e+00\t-7.866095e-01\t2.768308e+00\t-6.997622e-01\t7.237923e+00\n",
      "44\t1.000000e+01\t9.130000e+02\t2.768308e+00\t-6.997622e-01\t2.773846e+00\t-6.220214e-01\t7.231692e+00\n",
      "45\t1.000000e+01\t9.130000e+02\t2.773846e+00\t-6.220214e-01\t2.778766e+00\t-5.525362e-01\t7.226154e+00\n",
      "46\t1.000000e+01\t9.130000e+02\t2.778766e+00\t-5.525362e-01\t2.783134e+00\t-4.905122e-01\t7.221234e+00\n",
      "47\t1.000000e+01\t9.130000e+02\t2.783134e+00\t-4.905122e-01\t2.787009e+00\t-4.352136e-01\t7.216866e+00\n",
      "48\t1.000000e+01\t9.130000e+02\t2.787009e+00\t-4.352136e-01\t2.790446e+00\t-3.859624e-01\t7.212991e+00\n",
      "49\t1.000000e+01\t9.130000e+02\t2.790446e+00\t-3.859624e-01\t2.793492e+00\t-3.421379e-01\t7.209554e+00\n",
      "50\t1.000000e+01\t9.130000e+02\t2.793492e+00\t-3.421379e-01\t2.796192e+00\t-3.031740e-01\t7.206508e+00\n",
      "51\t1.000000e+01\t9.130000e+02\t2.796192e+00\t-3.031740e-01\t2.798583e+00\t-2.685568e-01\t7.203808e+00\n",
      "52\t1.000000e+01\t9.130000e+02\t2.798583e+00\t-2.685568e-01\t2.800701e+00\t-2.378212e-01\t7.201417e+00\n",
      "53\t1.000000e+01\t9.130000e+02\t2.800701e+00\t-2.378212e-01\t2.802576e+00\t-2.105474e-01\t7.199299e+00\n",
      "54\t1.000000e+01\t9.130000e+02\t2.802576e+00\t-2.105474e-01\t2.804235e+00\t-1.863576e-01\t7.197424e+00\n",
      "55\t1.000000e+01\t9.130000e+02\t2.804235e+00\t-1.863576e-01\t2.805703e+00\t-1.649127e-01\t7.195765e+00\n",
      "56\t1.000000e+01\t9.130000e+02\t2.805703e+00\t-1.649127e-01\t2.807003e+00\t-1.459088e-01\t7.194297e+00\n",
      "57\t1.000000e+01\t9.130000e+02\t2.807003e+00\t-1.459088e-01\t2.808152e+00\t-1.290738e-01\t7.192997e+00\n",
      "58\t1.000000e+01\t9.130000e+02\t2.808152e+00\t-1.290738e-01\t2.809169e+00\t-1.141647e-01\t7.191848e+00\n",
      "59\t1.000000e+01\t9.130000e+02\t2.809169e+00\t-1.141647e-01\t2.810068e+00\t-1.009649e-01\t7.190831e+00\n",
      "60\t1.000000e+01\t9.130000e+02\t2.810068e+00\t-1.009649e-01\t2.810863e+00\t-8.928123e-02\t7.189932e+00\n",
      "61\t1.000000e+01\t9.130000e+02\t2.810863e+00\t-8.928123e-02\t2.811566e+00\t-7.894172e-02\t7.189137e+00\n",
      "62\t1.000000e+01\t9.130000e+02\t2.811566e+00\t-7.894172e-02\t2.812187e+00\t-6.979345e-02\t7.188434e+00\n",
      "63\t1.000000e+01\t9.130000e+02\t2.812187e+00\t-6.979345e-02\t2.812737e+00\t-6.170054e-02\t7.187813e+00\n",
      "64\t1.000000e+01\t9.130000e+02\t2.812737e+00\t-6.170054e-02\t2.813222e+00\t-5.454228e-02\t7.187263e+00\n",
      "65\t1.000000e+01\t9.130000e+02\t2.813222e+00\t-5.454228e-02\t2.813652e+00\t-4.821155e-02\t7.186778e+00\n",
      "66\t1.000000e+01\t9.130000e+02\t2.813652e+00\t-4.821155e-02\t2.814031e+00\t-4.261334e-02\t7.186348e+00\n",
      "67\t1.000000e+01\t9.130000e+02\t2.814031e+00\t-4.261334e-02\t2.814366e+00\t-3.766339e-02\t7.185969e+00\n",
      "68\t1.000000e+01\t9.130000e+02\t2.814366e+00\t-3.766339e-02\t2.814663e+00\t-3.328702e-02\t7.185634e+00\n",
      "69\t1.000000e+01\t9.130000e+02\t2.814663e+00\t-3.328702e-02\t2.814925e+00\t-2.941808e-02\t7.185337e+00\n",
      "70\t1.000000e+01\t9.130000e+02\t2.814925e+00\t-2.941808e-02\t2.815156e+00\t-2.599797e-02\t7.185075e+00\n",
      "71\t1.000000e+01\t9.130000e+02\t2.815156e+00\t-2.599797e-02\t2.815361e+00\t-2.297481e-02\t7.184844e+00\n",
      "72\t1.000000e+01\t9.130000e+02\t2.815361e+00\t-2.297481e-02\t2.815542e+00\t-2.030268e-02\t7.184639e+00\n",
      "73\t1.000000e+01\t9.130000e+02\t2.815542e+00\t-2.030268e-02\t2.815701e+00\t-1.794092e-02\t7.184458e+00\n",
      "74\t1.000000e+01\t9.130000e+02\t2.815701e+00\t-1.794092e-02\t2.815843e+00\t-1.585359e-02\t7.184299e+00\n",
      "75\t1.000000e+01\t9.130000e+02\t2.815843e+00\t-1.585359e-02\t2.815967e+00\t-1.400885e-02\t7.184157e+00\n",
      "76\t1.000000e+01\t9.130000e+02\t2.815967e+00\t-1.400885e-02\t2.816078e+00\t-1.237858e-02\t7.184033e+00\n",
      "77\t1.000000e+01\t9.130000e+02\t2.816078e+00\t-1.237858e-02\t2.816175e+00\t-1.093788e-02\t7.183922e+00\n",
      "78\t1.000000e+01\t9.130000e+02\t2.816175e+00\t-1.093788e-02\t2.816261e+00\t-9.664740e-03\t7.183825e+00\n",
      "79\t1.000000e+01\t9.130000e+02\t2.816261e+00\t-9.664740e-03\t2.816337e+00\t-8.539697e-03\t7.183739e+00\n",
      "80\t1.000000e+01\t9.130000e+02\t2.816337e+00\t-8.539697e-03\t2.816404e+00\t-7.545544e-03\t7.183663e+00\n",
      "81\t1.000000e+01\t9.130000e+02\t2.816404e+00\t-7.545544e-03\t2.816464e+00\t-6.667070e-03\t7.183596e+00\n",
      "82\t1.000000e+01\t9.130000e+02\t2.816464e+00\t-6.667070e-03\t2.816516e+00\t-5.890827e-03\t7.183536e+00\n",
      "83\t1.000000e+01\t9.130000e+02\t2.816516e+00\t-5.890827e-03\t2.816562e+00\t-5.204927e-03\t7.183484e+00\n",
      "84\t1.000000e+01\t9.130000e+02\t2.816562e+00\t-5.204927e-03\t2.816603e+00\t-4.598863e-03\t7.183438e+00\n",
      "85\t1.000000e+01\t9.130000e+02\t2.816603e+00\t-4.598863e-03\t2.816640e+00\t-4.063349e-03\t7.183397e+00\n",
      "86\t1.000000e+01\t9.130000e+02\t2.816640e+00\t-4.063349e-03\t2.816672e+00\t-3.590176e-03\t7.183360e+00\n",
      "87\t1.000000e+01\t9.130000e+02\t2.816672e+00\t-3.590176e-03\t2.816700e+00\t-3.172091e-03\t7.183328e+00\n",
      "88\t1.000000e+01\t9.130000e+02\t2.816700e+00\t-3.172091e-03\t2.816725e+00\t-2.802683e-03\t7.183300e+00\n",
      "89\t1.000000e+01\t9.130000e+02\t2.816725e+00\t-2.802683e-03\t2.816747e+00\t-2.476287e-03\t7.183275e+00\n",
      "90\t1.000000e+01\t9.130000e+02\t2.816747e+00\t-2.476287e-03\t2.816766e+00\t-2.187897e-03\t7.183253e+00\n",
      "91\t1.000000e+01\t9.130000e+02\t2.816766e+00\t-2.187897e-03\t2.816783e+00\t-1.933088e-03\t7.183234e+00\n",
      "92\t1.000000e+01\t9.130000e+02\t2.816783e+00\t-1.933088e-03\t2.816799e+00\t-1.707951e-03\t7.183217e+00\n",
      "93\t1.000000e+01\t9.130000e+02\t2.816799e+00\t-1.707951e-03\t2.816812e+00\t-1.509032e-03\t7.183201e+00\n",
      "94\t1.000000e+01\t9.130000e+02\t2.816812e+00\t-1.509032e-03\t2.816824e+00\t-1.333278e-03\t7.183188e+00\n",
      "95\t1.000000e+01\t9.130000e+02\t2.816824e+00\t-1.333278e-03\t2.816834e+00\t-1.177992e-03\t7.183176e+00\n",
      "96\t1.000000e+01\t9.130000e+02\t2.816834e+00\t-1.177992e-03\t2.816844e+00\t-1.040790e-03\t7.183166e+00\n",
      "97\t1.000000e+01\t9.130000e+02\t2.816844e+00\t-1.040790e-03\t2.816852e+00\t-9.195677e-04\t7.183156e+00\n",
      "Raiz encontrada: 2.8168519386201005\n"
     ]
    }
   ],
   "source": [
    "## modifique os valores abaixo\n",
    "a = 10\n",
    "b = 1\n",
    "epsilon = 0.001\n",
    "maxIter = 100\n",
    "(houveErro, raiz) = false_pos(f, a, b, epsilon, maxIter)\n",
    "if houveErro:\n",
    "    print(\"O Método da Posição Falsa retornou um erro.\")\n",
    "if raiz is not None:\n",
    "    print(\"Raiz encontrada: %s\" % raiz)"
   ]
  },
  {
   "cell_type": "markdown",
   "metadata": {},
   "source": [
    "-3.154477002123052 ( 71), 0.33763504551140067(3)   ,2.8168519386201005(97)"
   ]
  },
  {
   "cell_type": "markdown",
   "metadata": {},
   "source": [
    "### Exercício 2\n",
    "\n",
    "Defina uma nova função f1(x) = x^3 - x^2 -2x + 1, e ache a raiz dessa função no intervalo [1,2], com epsilon = 0.0001."
   ]
  },
  {
   "cell_type": "code",
   "execution_count": null,
   "metadata": {
    "collapsed": true
   },
   "outputs": [],
   "source": [
    "## defina a nova função f1\n",
    "\n",
    "\n",
    "## copie o código da célula usada no exercício 1 aqui embaixo, alterando os valores \n",
    "## de a, b, epsilon e a função passada ao chamar false_pos\n"
   ]
  }
 ],
 "metadata": {
  "kernelspec": {
   "display_name": "Python 3",
   "language": "python",
   "name": "python3"
  },
  "language_info": {
   "codemirror_mode": {
    "name": "ipython",
    "version": 3
   },
   "file_extension": ".py",
   "mimetype": "text/x-python",
   "name": "python",
   "nbconvert_exporter": "python",
   "pygments_lexer": "ipython3",
   "version": "3.6.5"
  }
 },
 "nbformat": 4,
 "nbformat_minor": 2
}
