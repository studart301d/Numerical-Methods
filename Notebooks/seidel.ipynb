{
 "cells": [
  {
   "cell_type": "markdown",
   "metadata": {},
   "source": [
    "# Método Iterativo de Gauss-Seidel\n",
    "## Objetivos\n",
    "O objetivo desse notebook é implementar o método de Gauss-Seidel e testá-lo.\n",
    " \n",
    "\n",
    "## Implementação\n",
    "Nós iremos implementar os algoritmos parte por parte, de acordo com as estratégias mostradas em sala. As instruções estão nos comentários nas funções abaixo. Você só precisa editar onde estiver indicado. \n",
    "\n",
    "Para executar uma célula, selecione a célula e pressione ```Ctrl + Enter```. Após implementar as funções abaixo, você deve executar cada uma das células, preferencialmente na ordem em que elas aparecem.\n"
   ]
  },
  {
   "cell_type": "code",
   "execution_count": 9,
   "metadata": {},
   "outputs": [],
   "source": [
    "import numpy as np"
   ]
  },
  {
   "cell_type": "markdown",
   "metadata": {},
   "source": [
    "### Norma de vetores\n",
    "\n",
    "Iremos precisar da função norma implementada no notebook do Gauss-Jacobi. Copie e cole o código na célula abaixo."
   ]
  },
  {
   "cell_type": "code",
   "execution_count": 10,
   "metadata": {},
   "outputs": [],
   "source": [
    "def norma(v,x):\n",
    "    \"\"\"Calcula a norma entre dois vetores v e x.\n",
    "    \"\"\"\n",
    "    n = len(v)\n",
    "    if type(v) != np.ndarray:\n",
    "        v = np.array(v)\n",
    "    if type(x) != np.ndarray:\n",
    "        x = np.array(x)\n",
    "        \n",
    "    maxDif = max(abs(v-x))\n",
    "    maxV = max(abs(v))\n",
    "    \n",
    "    norma = maxDif/maxV \n",
    "    \n",
    "    return norma"
   ]
  },
  {
   "cell_type": "markdown",
   "metadata": {},
   "source": [
    "### Método de Gauss-Seidel\n",
    "\n",
    "Tomando como base o método de Gauss-Jacobi, faça as seguintes alterações:\n",
    "\n",
    "1. O vetor x **não** precisa ser inicializado com $b_i/a_{ii}$.\n",
    "\n",
    "2. Altere na parte das iterações, de modo que o vetor x agora contém a aproximação atual e o vetor v contém a aproximação anterior. Assim, salve o valor anterior de x em v logo antes de receber o novo valor.\n",
    "\n",
    "3. Altere a ordem de chamada dos parâmetros na função norma."
   ]
  },
  {
   "cell_type": "code",
   "execution_count": 37,
   "metadata": {},
   "outputs": [],
   "source": [
    "def seidel(A, b, epsilon, iterMax=50):\n",
    "    \"\"\"Resolve o sistema linear Ax=b usando o método iterativo Gauss-Jacobi.\n",
    "    O critério de parada utiliza a norma-infinito.\n",
    "    Saída é o vetor x.\n",
    "    \n",
    "    \"\"\"\n",
    "    if type(A) != np.ndarray:\n",
    "        A = np.array(A).astype(float)\n",
    "    if type(b) != np.ndarray:\n",
    "        b = np.array(b).astype(float)\n",
    "        \n",
    "    n = len(A)\n",
    "    #x = n * [0]\n",
    "    x = np.zeros(n)\n",
    "    #v = n * [0]\n",
    "    v = np.zeros(n)\n",
    "    \n",
    "    for i in range(n):\n",
    "        \n",
    "        b[i] = b[i]/A[i][i]\n",
    "        A[i] = -A[i]/A[i][i]      \n",
    "        \n",
    "        A[i][i] = 0\n",
    "        \n",
    "    for k  in range(iterMax):\n",
    "        \n",
    "        x = np.copy(v)\n",
    "        for i in range(n):\n",
    "            \n",
    "            \n",
    "            v[i] = b[i] + sum((A*v)[i]) #Podia ser np.dot(A,x)[i]\n",
    "            \n",
    "            \n",
    "        if norma(v,x) < epsilon :\n",
    "            return v\n",
    "        \n",
    "    print(\"Passou do limite de iterações\")\n",
    "    return v"
   ]
  },
  {
   "cell_type": "code",
   "execution_count": 38,
   "metadata": {},
   "outputs": [
    {
     "name": "stdout",
     "output_type": "stream",
     "text": [
      "\n",
      "#### GAUSS-SEIDEL ####\n",
      "[0.36358881 0.45451432 0.45453286 0.36363322]\n"
     ]
    }
   ],
   "source": [
    "print(\"\\n#### GAUSS-SEIDEL ####\")\n",
    "\n",
    "A1 = [[4.0, -1.0, 0.0, 0.0],\n",
    "     [-1.0, 4.0, -1.0, 0.0],\n",
    "     [0.0, -1.0, 4.0, -1.0],\n",
    "     [0.0, 0.0, -1.0, 4.0]]\n",
    "b1 = [1.0, 1.0, 1.0, 1.0]\n",
    "epsilon = 0.001\n",
    "\n",
    "A1 = np.array(A1)\n",
    "b1 = np.array(b1).astype(float)\n",
    " \n",
    "\n",
    "y = seidel(A1, b1, epsilon)\n",
    "print(y)"
   ]
  },
  {
   "cell_type": "markdown",
   "metadata": {},
   "source": [
    "**Não se esqueça de executar a célula de código acima!**\n",
    "\n",
    "Agora precisamos testar se a função está implementada corretamente.\n",
    "Teste com o exemplo visto em sala:\n",
    "\n",
    "$\\begin{cases} \n",
    "5x_1 +x_2+x_3= 5\\\\\n",
    "3x_1+ 4x_2+x_3=6\\\\\n",
    "3x_1 + 3x_2 + 6x_3=0\\\\\n",
    "\\end{cases}\n",
    "$\n",
    "\n",
    "com $\\varepsilon = 0.05$. "
   ]
  },
  {
   "cell_type": "code",
   "execution_count": 61,
   "metadata": {},
   "outputs": [
    {
     "name": "stdout",
     "output_type": "stream",
     "text": [
      "[ 1.0075    0.99125  -0.999375]\n"
     ]
    }
   ],
   "source": [
    "## Defina a matriz A, o vetor b e o epsilon.\n",
    "## Depois chame a função seidel e mostre o resultado obtido.\n",
    "# Escreva o seu código aqui\n",
    "A = [[5,1,1],[3,4,1],[3,3,6]]\n",
    "b = [5,6,0]\n",
    "epsilon = 0.05\n",
    "\n",
    "x = seidel(A,b,epsilon)\n",
    "print(x)"
   ]
  },
  {
   "cell_type": "markdown",
   "metadata": {},
   "source": [
    "Se estiver tudo ok, ao executar a célula acima, você deve ver a resposta:\n",
    "```\n",
    "[1.0075, 0.99125, -0.999375]\n",
    "\n",
    "```"
   ]
  },
  {
   "cell_type": "markdown",
   "metadata": {},
   "source": [
    "### Exercício\n",
    "\n",
    "Use a sua função para resolver o seguinte sistema linear:\n",
    "\n",
    "$\\begin{cases} \n",
    "3x_1 \\ \\ \\ +x_3= 3\\\\\n",
    "x_1 - x_2 \\ \\ \\ =20\\\\\n",
    "3x_1 + x_2 + 2x_3=9\\\\\n",
    "\\end{cases}\n",
    "$\n",
    "\n",
    "e com $\\varepsilon = 0.01$. "
   ]
  },
  {
   "cell_type": "code",
   "execution_count": 5,
   "metadata": {},
   "outputs": [
    {
     "name": "stdout",
     "output_type": "stream",
     "text": [
      "[-11.17484631 -31.17484631  36.84969263]\n"
     ]
    }
   ],
   "source": [
    "## Defina a matriz A, o vetor b e o epsilon.\n",
    "## Depois chame a função seidel e mostre o resultado obtido.\n",
    "# Escreva o seu código aqui\n",
    "A = [[3,0,1],[1,-1,0],[3,1,2]]\n",
    "b = [3,20,9]\n",
    "epsilon = 0.01\n",
    "\n",
    "x = seidel(A,b,epsilon)\n",
    "print(x)"
   ]
  }
 ],
 "metadata": {
  "kernelspec": {
   "display_name": "Python 3",
   "language": "python",
   "name": "python3"
  },
  "language_info": {
   "codemirror_mode": {
    "name": "ipython",
    "version": 3
   },
   "file_extension": ".py",
   "mimetype": "text/x-python",
   "name": "python",
   "nbconvert_exporter": "python",
   "pygments_lexer": "ipython3",
   "version": "3.6.5"
  }
 },
 "nbformat": 4,
 "nbformat_minor": 2
}
