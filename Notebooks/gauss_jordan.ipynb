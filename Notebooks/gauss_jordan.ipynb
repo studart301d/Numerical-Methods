{
 "cells": [
  {
   "cell_type": "markdown",
   "metadata": {},
   "source": [
    "# Método da Eliminação de Gauss-Jordan\n",
    "## Objetivos\n",
    "Os objetivos desse notebook são dois:\n",
    "\n",
    "1. Implementar o método de Gauss-Jordan e testá-lo.\n",
    " \n",
    "3. Implementar o método de Gauss-Jordan modificado para calcular a inversa de uma matriz.\n",
    "\n",
    "## Implementação\n",
    "Nós iremos implementar os algoritmos parte por parte, de acordo com as estratégias mostradas em sala. As instruções estão nos comentários nas funções abaixo. Você só precisa editar onde estiver indicado. \n",
    "\n",
    "Para executar uma célula, selecione a célula e pressione ```Ctrl + Enter```. Após implementar as funções abaixo, você deve executar cada uma das células, preferencialmente na ordem em que elas aparecem.\n"
   ]
  },
  {
   "cell_type": "code",
   "execution_count": 1,
   "metadata": {},
   "outputs": [],
   "source": [
    "import numpy as np"
   ]
  },
  {
   "cell_type": "markdown",
   "metadata": {},
   "source": [
    "### Método de Gauss-Jordan\n",
    "\n",
    "Copie e cole o código de método de Gauss original e modifique-o conforme vimos em sala. Lembre-se de que precisamos zerar os elementos acima e abaixo da diagonal e ir até a última coluna da matriz A. "
   ]
  },
  {
   "cell_type": "code",
   "execution_count": 34,
   "metadata": {},
   "outputs": [],
   "source": [
    "def gauss_jordan(A, b = None ,onlyInv = False):\n",
    "    \n",
    "    '''\n",
    "    Executa o método de Gauss-Jordan para resolver o sistema linear Ax=b \n",
    "    transformando a matriz A na matriz identidade.\n",
    "    Parâmetros de entrada: A é uma matriz quadrada de ordem n e b é o vetor constante.\n",
    "    Saída: vetor solução x\n",
    "    '''\n",
    "    n = len(A)\n",
    "    \n",
    "    \n",
    "        \n",
    "    if type(A) != np.ndarray:\n",
    "            A = np.array(A)\n",
    "    if type(b) != np.ndarray:\n",
    "            b = np.array(b).astype(float)\n",
    "            \n",
    "    if b.all() == None:\n",
    "        b = n*[1] #só pra pode fazer operações e não mudar o muito o codigo,se pedi só a matriz inversa\n",
    "    \n",
    "    # escreva o código aqui\n",
    "    matrizA = np.concatenate((A,np.eye(n)),axis = 1).astype(float)\n",
    "    \n",
    "    for j in range(n):\n",
    "        \n",
    "        b[j] = b[j]/matrizA[j][j]\n",
    "        matrizA[j] = matrizA[j]/matrizA[j][j]\n",
    "        \n",
    "        for i in range(n):\n",
    "\n",
    "            if i != j :\n",
    "                m = -matrizA[i][j]/matrizA[j][j]\n",
    "                ## Atualiza a linha i da matriz, percorrendo todas as colunas j\n",
    "                matrizA[i] = matrizA[j]*m+ matrizA[i]\n",
    "                #matrizA[i] = [elem1 + elem2 for elem1,elem2 in zip(matrizA[i],list(map(lambda x: x*m,matrizA[j])))] \n",
    "                #Sem ser com numpy\n",
    "                \n",
    "                # Atualiza o vetor b na linha i\n",
    "                b[i] = b[i] + m*b[j]\n",
    "                \n",
    "                 ## Zera o elereturn matrizA[:3,3:]mento Aik\n",
    "                matrizA[i][j] = 0 \n",
    "                \n",
    "    if onlyInv:\n",
    "        return matrizA[:3,3:]\n",
    "    else:\n",
    "        return (b,matrizA[:3,3:])\n",
    "    "
   ]
  },
  {
   "cell_type": "code",
   "execution_count": 35,
   "metadata": {},
   "outputs": [
    {
     "name": "stdout",
     "output_type": "stream",
     "text": [
      "[0.36363636 0.45454545 0.45454545 0.36363636]\n"
     ]
    }
   ],
   "source": [
    "A1 = [[4.0, -1.0, 0.0, 0.0],\n",
    "     [-1.0, 4.0, -1.0, 0.0],\n",
    "     [0.0, -1.0, 4.0, -1.0],\n",
    "     [0.0, 0.0, -1.0, 4.0]]\n",
    "\n",
    "b1 = [1.0, 1.0, 1.0, 1.0]\n",
    "epsilon = 0.001\n",
    "\n",
    "A1 = np.array(A1)\n",
    "b1 = np.array(b1).astype(float)\n",
    " \n",
    "\n",
    "(y,I) = gauss_jordan(A1, b1)\n",
    "print(y)"
   ]
  },
  {
   "cell_type": "markdown",
   "metadata": {},
   "source": [
    "Se estiver tudo ok, ao executar a célula acima, você deve ver a resposta:\n",
    "```\n",
    "[-2.9999999999999996, 5.0, 8.326672684688674e-17]\n",
    "```\n",
    "\n",
    "Observe os erros de arredondamento! A solução deveria ser [-3.0, 5.0, 0.0].\n",
    "\n",
    "#### Exercício:\n",
    "Na célula abaixo, resolva o exercício mostrado em sala:\n",
    "\n",
    "$\\left[\\begin{array}{rrr}\n",
    "1& 4 & -2\\\\\n",
    "5& 7 & -5\\\\\n",
    "-3& 2 & -6\\\\\n",
    "\\end{array}\\right] \\left[\\begin{array}{c}\n",
    "x_1\\\\\n",
    "x_2\\\\\n",
    "x_3\\\\\n",
    "\\end{array}\\right] = \\left[\\begin{array}{r}\n",
    "8\\\\\n",
    "6\\\\\n",
    "6\\\\\n",
    "\\end{array}\\right] $\n",
    "\n",
    "**Não se esqueça de executar as células de código acima!**"
   ]
  },
  {
   "cell_type": "markdown",
   "metadata": {},
   "source": [
    "### Modificação do método de Gauss para calcular a inversa\n",
    "\n",
    "Copie a função gauss_jordan acima, e depois modifique-a para calcular a inversa."
   ]
  },
  {
   "cell_type": "markdown",
   "metadata": {},
   "source": [
    "Vamos testar a função com o exemplo mostrado em sala:\n",
    "Calcule a inversa da matriz A abaixo:\n",
    "\n",
    "$A = \\left[\\begin{array}{rrr}\n",
    "2& 1 & 3\\\\\n",
    "0& -1 & 1\\\\\n",
    "1& 0 & 3\\\\\n",
    "\\end{array}\\right] $"
   ]
  },
  {
   "cell_type": "code",
   "execution_count": 18,
   "metadata": {},
   "outputs": [
    {
     "data": {
      "text/plain": [
       "array([[-2. , -4. ,  2.5],\n",
       "       [ 1. ,  1. , -1. ],\n",
       "       [ 0.5,  1. , -0.5]])"
      ]
     },
     "execution_count": 18,
     "metadata": {},
     "output_type": "execute_result"
    }
   ],
   "source": [
    "## Defina a matriz A e chame a função gauss_inversa\n",
    "## Use a função formata_matriz para mostrar a matriz de forma mais legível.\n",
    "\n",
    "# Escreva o seu código aqui\n",
    "A = [[2,1,3],[0,-1,1],[1,0,3]]\n",
    "gauss_jordan(A,onlyInv=True)"
   ]
  }
 ],
 "metadata": {
  "kernelspec": {
   "display_name": "Python 3",
   "language": "python",
   "name": "python3"
  },
  "language_info": {
   "codemirror_mode": {
    "name": "ipython",
    "version": 3
   },
   "file_extension": ".py",
   "mimetype": "text/x-python",
   "name": "python",
   "nbconvert_exporter": "python",
   "pygments_lexer": "ipython3",
   "version": "3.6.5"
  }
 },
 "nbformat": 4,
 "nbformat_minor": 2
}
