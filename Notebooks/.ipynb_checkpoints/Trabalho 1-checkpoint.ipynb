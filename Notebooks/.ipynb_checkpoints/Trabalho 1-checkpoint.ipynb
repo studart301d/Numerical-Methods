{
 "cells": [
  {
   "cell_type": "code",
   "execution_count": 1,
   "metadata": {},
   "outputs": [],
   "source": [
    "import numpy as np\n",
    "import pandas as pd\n",
    "import matplotlib.pyplot as plt\n",
    "import seaborn as sns"
   ]
  },
  {
   "cell_type": "code",
   "execution_count": 36,
   "metadata": {},
   "outputs": [],
   "source": [
    "import numpy as np\n",
    "\n",
    "def f(test,x = None,a = None,b = None,plot=False):\n",
    "    \n",
    "    if a != None and b != None:\n",
    "        intervaX = np.arange(a,b+0.01,0.01)\n",
    "    fx = []\n",
    "    aux2 = []\n",
    "    aux = 0\n",
    "    \n",
    "    if test == 1:\n",
    "        \n",
    "        if plot == True:\n",
    "            for x in intervaX:\n",
    "                y  = (x**3 - 10*x**2 + 5)\n",
    "                aux2.append(y)\n",
    "                if aux != 0 :\n",
    "                    dif = abs(aux2[aux - 1] - y)\n",
    "                    if  dif > 100:\n",
    "                        y = np.inf\n",
    "                fx.append(y)\n",
    "                aux = aux + 1\n",
    "        else:\n",
    "            return (x**3 - 10*x**2 + 5)\n",
    "    \n",
    "    elif test == 2:\n",
    "        \n",
    "        if plot == True:\n",
    "            for x in intervaX:\n",
    "                y  = (1/((x - 0.3)**2 + 0.01) - 1/((x - 0.8)**2 + 0.04))\n",
    "                aux2.append(y)\n",
    "                if aux != 0 :\n",
    "                    dif = abs(aux2[aux - 1] - y)\n",
    "                    if  dif > 100:\n",
    "                        y = np.inf\n",
    "                fx.append(y)\n",
    "                aux = aux + 1\n",
    "        else:\n",
    "            return (1/((x - 0.3)**2 + 0.01) - 1/((x - 0.8)**2 + 0.04))\n",
    "        \n",
    "    elif test == 3:\n",
    "        \n",
    "        if plot == True:\n",
    "            for x in intervaX:\n",
    "                y  = (np.cosh(x)*np.cos(x))\n",
    "                aux2.append(y)\n",
    "                if aux != 0 :\n",
    "                    dif = abs(aux2[aux - 1] - y)\n",
    "                    if  dif > 100:\n",
    "                        y = np.inf\n",
    "                fx.append(y)\n",
    "                aux = aux + 1\n",
    "        else:\n",
    "            return (np.cosh(x)*np.cos(x))\n",
    "\n",
    "    elif test == 4:\n",
    "        \n",
    "        if plot == True:\n",
    "            for x in intervaX:\n",
    "                y  = (x*np.sin(x) + 3*np.cos(x) - x)\n",
    "                aux2.append(y)\n",
    "                if aux != 0 :\n",
    "                    dif = abs(aux2[aux - 1] - y)\n",
    "                    if  dif > 100:\n",
    "                        y = np.inf\n",
    "                fx.append(y)\n",
    "                aux = aux + 1\n",
    "        else:\n",
    "            return (x*np.sin(x) + 3*np.cos(x) - x)\n",
    "            \n",
    "    elif test == 5:\n",
    "        \n",
    "        if plot == True:\n",
    "            for x in intervaX:\n",
    "                y  = np.cos(x) - 3*np.sin(np.tan(x) - 1)\n",
    "                aux2.append(y)\n",
    "                if aux != 0 :\n",
    "                    dif = abs(aux2[aux - 1] - y)\n",
    "                    if  dif > 100:\n",
    "                        y = np.inf\n",
    "                fx.append(y)\n",
    "                aux = aux + 1\n",
    "        else:\n",
    "            return np.cos(x) - 3*np.sin(np.tan(x) - 1)\n",
    "\n",
    "    elif test == 6:\n",
    "        \n",
    "        if plot == True:\n",
    "            intervaX = np.arange(a,b+0.001,0.001)\n",
    "            for x in intervaX:\n",
    "                y  = x - np.tan(x)\n",
    "                aux2.append(y)\n",
    "                if aux != 0 :\n",
    "                    dif = abs(aux2[aux - 1] - y)\n",
    "                    if  dif > 10:\n",
    "                        y = np.inf\n",
    "                fx.append(y)\n",
    "                aux = aux + 1\n",
    "        else:\n",
    "            return x - np.tan(x)\n",
    "        \n",
    "    elif test == 7:\n",
    "        if plot == True:\n",
    "            intervaX = np.arange(1,1.5+0.001,0.001)\n",
    "            for x in intervaX:\n",
    "                y  = x**3 - x - 1\n",
    "                aux2.append(y)\n",
    "                if aux != 0 :\n",
    "                    dif = abs(aux2[aux - 1] - y)\n",
    "                    if  dif > 10:\n",
    "                        y = np.inf\n",
    "                fx.append(y)\n",
    "                aux = aux + 1\n",
    "        else:\n",
    "            return x**3 - x - 1\n",
    "        \n",
    "    elif test == 8:\n",
    "        if plot == True:\n",
    "            intervaX = np.arange(2.8,3.2+0.001,0.001)\n",
    "            for x in intervaX:\n",
    "                y  = x**4 - 6*x**3 + 10*x**2 - 6*x + 9\n",
    "                aux2.append(y)\n",
    "                if aux != 0 :\n",
    "                    dif = abs(aux2[aux - 1] - y)\n",
    "                    if  dif > 10:\n",
    "                        y = np.inf\n",
    "                fx.append(y)\n",
    "                aux = aux + 1\n",
    "        else:\n",
    "            return x**4 - 6*x**3 + 10*x**2 - 6*x + 9\n",
    "        \n",
    "    elif test == 9:\n",
    "        if plot == True:\n",
    "            intervaX = np.arange(1.3,1.8+0.001,0.001)\n",
    "            for x in intervaX:\n",
    "                y  = np.exp(-x**2) - np.cos(x)\n",
    "                aux2.append(y)\n",
    "                if aux != 0 :\n",
    "                    dif = abs(aux2[aux - 1] - y)\n",
    "                    if  dif > 10:\n",
    "                        y = np.inf\n",
    "                fx.append(y)\n",
    "                aux = aux + 1\n",
    "        else:\n",
    "            return  np.exp(-x**2) - np.cos(x)\n",
    "        \n",
    "    elif test == 10:\n",
    "        if plot == True:\n",
    "            intervaX = np.arange(0,1+0.001,0.001)\n",
    "            for x in intervaX:\n",
    "                y  = 4*np.sin(x)- np.exp(x)\n",
    "                aux2.append(y)\n",
    "                if aux != 0 :\n",
    "                    dif = abs(aux2[aux - 1] - y)\n",
    "                    if  dif > 10:\n",
    "                        y = np.inf\n",
    "                fx.append(y)\n",
    "                aux = aux + 1\n",
    "        else:\n",
    "            return 4*np.sin(x)- np.exp(x)\n",
    "        \n",
    "            \n",
    "    return (intervaX,fx)"
   ]
  },
  {
   "cell_type": "code",
   "execution_count": 7,
   "metadata": {},
   "outputs": [],
   "source": [
    "(x,y) = f(1,a=0,b=1,plot = True)"
   ]
  },
  {
   "cell_type": "code",
   "execution_count": 12,
   "metadata": {},
   "outputs": [],
   "source": [
    "def f1(x):\n",
    "    return f(1,x)"
   ]
  },
  {
   "cell_type": "code",
   "execution_count": 13,
   "metadata": {},
   "outputs": [],
   "source": [
    "def f2(x):\n",
    "    return f(2,x)"
   ]
  },
  {
   "cell_type": "code",
   "execution_count": 14,
   "metadata": {},
   "outputs": [],
   "source": [
    "def f3(x):\n",
    "    return f(3,x)"
   ]
  },
  {
   "cell_type": "code",
   "execution_count": 15,
   "metadata": {},
   "outputs": [],
   "source": [
    "def f6(x):\n",
    "    return f(6,x)"
   ]
  },
  {
   "cell_type": "code",
   "execution_count": 16,
   "metadata": {},
   "outputs": [],
   "source": [
    "def f7(x):\n",
    "    return f(7,x)"
   ]
  },
  {
   "cell_type": "code",
   "execution_count": 28,
   "metadata": {},
   "outputs": [],
   "source": [
    "def df7(x):\n",
    "    return (x+1)**(1/3)"
   ]
  },
  {
   "cell_type": "code",
   "execution_count": 18,
   "metadata": {},
   "outputs": [],
   "source": [
    "def f8(x):\n",
    "    return f(8,x)"
   ]
  },
  {
   "cell_type": "code",
   "execution_count": 30,
   "metadata": {},
   "outputs": [],
   "source": [
    "def df8(x):\n",
    "    return x + 0.19*f8(x)"
   ]
  },
  {
   "cell_type": "code",
   "execution_count": 20,
   "metadata": {},
   "outputs": [],
   "source": [
    "def f9(x):\n",
    "    return f(9,x)"
   ]
  },
  {
   "cell_type": "code",
   "execution_count": 31,
   "metadata": {},
   "outputs": [],
   "source": [
    "def df9(x):\n",
    "    return np.cos(x) - np.exp(-x**2) + x"
   ]
  },
  {
   "cell_type": "code",
   "execution_count": 22,
   "metadata": {},
   "outputs": [],
   "source": [
    "def f10(x):\n",
    "    return f(10,x)"
   ]
  },
  {
   "cell_type": "code",
   "execution_count": 32,
   "metadata": {},
   "outputs": [],
   "source": [
    "def df10(x):\n",
    "    return x - 2*np.sin(x)- 0.5*np.exp(x)"
   ]
  },
  {
   "cell_type": "code",
   "execution_count": 254,
   "metadata": {},
   "outputs": [
    {
     "data": {
      "image/png": "[encoded data removed]",
      "text/plain": [
       "<Figure size 432x288 with 4 Axes>"
      ]
     },
     "metadata": {},
     "output_type": "display_data"
    }
   ],
   "source": [
    "fig, axes = plt.subplots(nrows=2, ncols=2)\n",
    "\n",
    "#grafico 1\n",
    "\n",
    "(x,y) = f(1,a=0,b=1,plot = True)\n",
    "(erro,raiz) = bissecao(f1,0,1,0.0001)\n",
    "\n",
    "axes[0][0].plot(x,y,'r',label = 'f(x)')\n",
    "axes[0][0].plot(raiz, f(1,raiz), 'o')\n",
    "axes[0][0].grid()\n",
    "axes[0][0].set_ylabel(\"f(x)\")\n",
    "axes[0][0].set_title(\"Fução de teste 1\")\n",
    "\n",
    "#grafico 2\n",
    "\n",
    "(x,y) = f(2,a=0,b=1,plot = True)\n",
    "(erro,raiz) = bissecao(f2,0,1,0.01)\n",
    "\n",
    "axes[0][1].plot(x,y,'r',label = 'f(x)')\n",
    "axes[0][1].plot(raiz, f(2,raiz), 'o')\n",
    "axes[0][1].grid()\n",
    "axes[0][1].set_ylabel(\"f(x)\")\n",
    "axes[0][1].set_title(\"Fução de teste 2\")\n",
    "\n",
    "#grafico 3\n",
    "\n",
    "(x,y) = f(3,a=4,b=5,plot = True)\n",
    "(erro,raiz) = bissecao(f3,4,5,0.00001)\n",
    "\n",
    "axes[1][0].plot(x,y,'r',label = 'f(x)')\n",
    "axes[1][0].plot(raiz, f(3,raiz), 'o')\n",
    "axes[1][0].grid()\n",
    "axes[1][0].set_ylabel(\"f(x)\")\n",
    "axes[1][0].set_title(\"Fução de teste 3\")\n",
    "\n",
    "#grafico 4\n",
    "\n",
    "(x,y) = f(6,a=4.4,b=5,plot = True)\n",
    "#(erro,raiz) = bissecao(f6,4,5,0.001) Como esse da erro, só olha por fora...\n",
    "\n",
    "axes[1][1].plot(x,y,'r',label = 'f(x)')\n",
    "axes[1][1].plot(4.71240234375, 100, 'o')\n",
    "axes[1][1].grid()\n",
    "axes[1][1].set_ylabel(\"f(x)\")\n",
    "axes[1][1].set_title(\"Fução de teste 6\")\n",
    "\n",
    "\n",
    "plt.subplots_adjust(hspace=0.5, wspace=0.5)"
   ]
  },
  {
   "cell_type": "code",
   "execution_count": 21,
   "metadata": {},
   "outputs": [],
   "source": [
    "def newton(f, flin, x0, epsilson, iterMax=50):\n",
    "    \"\"\"Executa o método de Newton-Raphson para ac8har o zero de f  \n",
    "       a partir da derivada de f flin, aproximação inicial x0 \n",
    "       e tolerância epsilon.\n",
    "       Retorna uma tupla (houveErro, raiz), onde houveErro é booleano.\n",
    "    \"\"\"   \n",
    "    ## Teste se x0 já é logo a raiz\n",
    "    if f(x0) == 0:\n",
    "        return (False,x0)\n",
    "\n",
    "    ## Escreva o cabeçalho da tabela e o valor da aproximação inicial\n",
    "    \n",
    "    ## Inicie as iterações (pode ser um for)\n",
    "    for i in range(iterMax):\n",
    "        ## Em cada iteração: \n",
    "        ##    Calcule x1 a partir de x0\n",
    "        x = x0 - f(x0)/flin(x0)\n",
    "        Fx = f(x)\n",
    "        ##    Escreva os valores de k, x1, f(x1)\n",
    "\n",
    "        ##    Teste para o critério de parada usando módulo da função\n",
    "        if abs(Fx) < epsilson:\n",
    "              return (False,x)\n",
    "        ##    Atualize o valor de x0\n",
    "        x0 = x\n",
    "          \n",
    "    ## Se atingir o número máximo de iterações mostra mensagem de erro e retorna\n",
    "    ## a última raiz encontrada\n",
    "    return (True, x)"
   ]
  },
  {
   "cell_type": "code",
   "execution_count": 54,
   "metadata": {},
   "outputs": [
    {
     "data": {
      "image/png": "[encoded data removed]",
      "text/plain": [
       "<Figure size 432x288 with 4 Axes>"
      ]
     },
     "metadata": {},
     "output_type": "display_data"
    }
   ],
   "source": [
    "fig, axes = plt.subplots(nrows=2, ncols=2)\n",
    "\n",
    "#grafico 1\n",
    "\n",
    "(x,y) = f(7,plot = True)\n",
    "(erro,raiz) = newton(f7,df7,0,0.000001)\n",
    "\n",
    "axes[0][0].plot(x,y,label = 'f(x)')\n",
    "axes[0][0].plot(raiz, f(7,raiz), 'o')\n",
    "axes[0][0].grid()\n",
    "axes[0][0].set_ylabel(\"f(x)\")\n",
    "axes[0][0].set_title(\"Função de teste 1\")\n",
    "\n",
    "#grafico 2\n",
    "\n",
    "(x,y) = f(8,plot = True)\n",
    "(erro,raiz) = newton(f8,df8,2,0.001)\n",
    "\n",
    "axes[0][1].plot(x,y,label = 'f(x)')\n",
    "axes[0][1].plot(raiz, f(8,raiz), 'o')\n",
    "axes[0][1].grid()\n",
    "axes[0][1].set_ylabel(\"f(x)\")\n",
    "axes[0][1].set_title(\"Função de teste 2\")\n",
    "\n",
    "#grafico 3\n",
    "\n",
    "(x,y) = f(9,plot = True)\n",
    "(erro,raiz) = newton(f9,df9,1.5,0.0001)\n",
    "\n",
    "\n",
    "axes[1][0].plot(raiz, f(9,raiz), 'o')\n",
    "axes[1][0].plot(x,y,label = 'f(x)')\n",
    "axes[1][0].grid()\n",
    "axes[1][0].set_ylabel(\"f(x)\")\n",
    "axes[1][0].set_title(\"Função de teste 3\")\n",
    "\n",
    "#grafico 4\n",
    "\n",
    "(x,y) = f(10,plot = True)\n",
    "(erro,raiz) = newton(f10,df10,0.5,0.0000001)\n",
    "\n",
    "\n",
    "axes[1][1].plot(raiz, f(10,raiz), 'o')\n",
    "axes[1][1].plot(x,y,label = 'f(x)')\n",
    "axes[1][1].grid()\n",
    "axes[1][1].set_ylabel(\"f(x)\")\n",
    "axes[1][1].set_title(\"Função de teste 4\")\n",
    "\n",
    "\n",
    "plt.subplots_adjust(hspace=0.5, wspace=0.5)\n",
    "\n",
    "#fig.savefig(\"ResultadosNewton.png\")"
   ]
  },
  {
   "cell_type": "code",
   "execution_count": 34,
   "metadata": {},
   "outputs": [],
   "source": [
    "def MPF(f, fi,x0, epsilson, iterMax=50):\n",
    "   \n",
    "    ## Teste se x0 já é logo a raiz\n",
    "    if f(x0) == 0:\n",
    "        return (False,x0)\n",
    "\n",
    "    ## Escreva o cabeçalho da tabela e o valor da aproximação inicial\n",
    "    \n",
    "    ## Inicie as iterações (pode ser um for)\n",
    "    for i in range(iterMax):\n",
    "        ## Em cada iteração: \n",
    "        ##    Calcule x1 a partir de x0\n",
    "        x = fi(x0)\n",
    "        Fx = f(x)\n",
    "        ##    Escreva os valores de k, x1, f(x1)\n",
    "\n",
    "        ##    Teste para o critério de parada usando módulo da função\n",
    "        if abs(Fx) < epsilson:\n",
    "              return (False,x)\n",
    "        ##    Atualize o valor de x0\n",
    "        x0 = x\n",
    "          \n",
    "    ## Se atingir o número máximo de iterações mostra mensagem de erro e retorna\n",
    "    ## a última raiz encontrada\n",
    "    return (True, x)"
   ]
  },
  {
   "cell_type": "code",
   "execution_count": 29,
   "metadata": {},
   "outputs": [
    {
     "name": "stdout",
     "output_type": "stream",
     "text": [
      "k\t  x\t\t  f(x1)\t\n",
      "0\t1.259921e+00\t-2.599210e-01\n",
      "1\t1.312294e+00\t-5.237279e-02\n",
      "2\t1.322354e+00\t-1.005998e-02\n",
      "3\t1.324269e+00\t-1.914925e-03\n",
      "4\t1.324633e+00\t-3.638807e-04\n",
      "5\t1.324702e+00\t-6.912326e-05\n",
      "6\t1.324715e+00\t-1.312993e-05\n",
      "7\t1.324717e+00\t-2.493995e-06\n",
      "8\t1.324718e+00\t-4.737265e-07\n"
     ]
    },
    {
     "data": {
      "text/plain": [
       "(False, 1.3247178461621456)"
      ]
     },
     "execution_count": 29,
     "metadata": {},
     "output_type": "execute_result"
    }
   ],
   "source": [
    "MPF(f7,df7,1,0.000001)"
   ]
  },
  {
   "cell_type": "code",
   "execution_count": 38,
   "metadata": {},
   "outputs": [
    {
     "data": {
      "image/png": "[encoded data removed]",
      "text/plain": [
       "<Figure size 432x288 with 4 Axes>"
      ]
     },
     "metadata": {},
     "output_type": "display_data"
    }
   ],
   "source": [
    "fig, axes = plt.subplots(nrows=2, ncols=2)\n",
    "\n",
    "#grafico 1\n",
    "\n",
    "(x,y) = f(7,plot = True)\n",
    "(erro,raiz) = MPF(f7,df7,1,0.000001)\n",
    "\n",
    "axes[0][0].plot(x,y,label = 'f(x)')\n",
    "axes[0][0].plot(raiz, f(7,raiz), 'o')\n",
    "axes[0][0].grid()\n",
    "axes[0][0].set_ylabel(\"f(x)\")\n",
    "axes[0][0].set_title(\"Função de teste 1\")\n",
    "\n",
    "#grafico 2\n",
    "\n",
    "(x,y) = f(8,plot = True)\n",
    "(erro,raiz) = MPF(f8,df8,2,0.001)\n",
    "\n",
    "axes[0][1].plot(x,y,label = 'f(x)')\n",
    "axes[0][1].plot(raiz, f(8,raiz), 'o')\n",
    "axes[0][1].grid()\n",
    "axes[0][1].set_ylabel(\"f(x)\")\n",
    "axes[0][1].set_title(\"Função de teste 2\")\n",
    "\n",
    "#grafico 3\n",
    "\n",
    "(x,y) = f(9,plot = True)\n",
    "(erro,raiz) = MPF(f9,df9,1.5,0.0001)\n",
    "\n",
    "\n",
    "axes[1][0].plot(raiz, f(9,raiz), 'o')\n",
    "axes[1][0].plot(x,y,label = 'f(x)')\n",
    "axes[1][0].grid()\n",
    "axes[1][0].set_ylabel(\"f(x)\")\n",
    "axes[1][0].set_title(\"Função de teste 3\")\n",
    "\n",
    "#grafico 4\n",
    "\n",
    "(x,y) = f(10,plot = True)\n",
    "(erro,raiz) = MPF(f10,df10,0.5,0.0000001)\n",
    "\n",
    "\n",
    "axes[1][1].plot(raiz, f(10,raiz), 'o')\n",
    "axes[1][1].plot(x,y,label = 'f(x)')\n",
    "axes[1][1].grid()\n",
    "axes[1][1].set_ylabel(\"f(x)\")\n",
    "axes[1][1].set_title(\"Função de teste 4\")\n",
    "\n",
    "\n",
    "plt.subplots_adjust(hspace=0.5, wspace=0.5)\n",
    "\n",
    "fig.savefig(\"ResultadosMPF.png\")"
   ]
  },
  {
   "cell_type": "code",
   "execution_count": null,
   "metadata": {},
   "outputs": [],
   "source": []
  },
  {
   "cell_type": "code",
   "execution_count": null,
   "metadata": {},
   "outputs": [],
   "source": []
  },
  {
   "cell_type": "code",
   "execution_count": null,
   "metadata": {},
   "outputs": [],
   "source": []
  },
  {
   "cell_type": "code",
   "execution_count": 54,
   "metadata": {},
   "outputs": [],
   "source": [
    "def false_pos(f, a, b, epsilon, maxIter = 50):\n",
    "    \n",
    "    \"\"\"Executa o método da Posição Falsa para achar o zero de f no intervalo \n",
    "       [a,b] com precisão epsilon. O método executa no máximo maxIter\n",
    "       iterações.\n",
    "       Retorna uma tupla (houveErro, raiz), onde houveErro é booleano.\n",
    "    \"\"\"\n",
    "    ## Inicializar as variáveis Fa e Fb\n",
    "    Fa = f(a)\n",
    "    Fb = f(b)\n",
    "    \n",
    "    ## Teste para saber se a função muda de sinal. Se não mudar, mostrar\n",
    "    ## mensagem de erro\n",
    "    #if Fa*Fb > 0 :\n",
    "       # print(\"Erro! A função não muda de sinal.\")\n",
    "       # return (True, None)\n",
    "    \n",
    "    ## Inicializa o tamanho do intervalo intervX usando a função abs\n",
    "    intervX = abs(b - a)\n",
    "    \n",
    "    ## Teste se intervalo já é do tamanho da precisão e retorna a raiz sem erros\n",
    "    if intervX < epsilon:\n",
    "        x = (a*f(b) - b*f(a))/(f(b) - f(a))\n",
    "        return (False,x)\n",
    "    \n",
    "    ## Testes se raiz está nos extremos dos intervalos\n",
    "    \n",
    "    ## Teste se a é raiz, se for, retorna o próprio a sem erros\n",
    "    if Fa == 0:\n",
    "        return (False,a)\n",
    "    \n",
    "    ## Teste se b é raiz, se for, retorna o próprio b sem erros\n",
    "    if Fb == 0:\n",
    "        return (False,b)\n",
    "    \n",
    "    ## Mostra na tela cabeçalho da tabela\n",
    "    \n",
    "    \n",
    "    ## Iniciliza o k, dessa vez usaremos um for\n",
    "    for k in range(1, maxIter+1):\n",
    "        ## Calcula x, Fx\n",
    "        x = (a*f(b) - b*f(a))/(f(b) - f(a))\n",
    "        Fx = f(x)\n",
    "        \n",
    "        ## Mostra valores na tela\n",
    "       \n",
    "        \n",
    "        ## Teste do critério de parada módulo da função\n",
    "        if abs(Fx) < epsilon:\n",
    "            return(False,x)\n",
    "        \n",
    "        ## Testes para saber se a raiz está entre a e x ou entre x e b e atualiza\n",
    "        ## as variáveis apropriadamente\n",
    "        \n",
    "        if Fa * Fx > 0 :\n",
    "            a = x\n",
    "            Fa = Fx\n",
    "        else:\n",
    "            b = x\n",
    "            Fb = Fx\n",
    "        \n",
    "        ## Atualiza intervX e checa o outro critério de parada: tamanho do intervalo\n",
    "        intervX = abs(b - a)\n",
    "        if intervX < epsilon:\n",
    "            return(False,x)\n",
    "       \n",
    "    ## Mostrar uma mensagem de erro e retorna que houve erro e a última raiz encontrada\n",
    "    \n",
    "    return (True, x)"
   ]
  },
  {
   "cell_type": "code",
   "execution_count": 41,
   "metadata": {},
   "outputs": [],
   "source": [
    "from timeit import default_timer as timer"
   ]
  },
  {
   "cell_type": "code",
   "execution_count": 42,
   "metadata": {},
   "outputs": [
    {
     "name": "stdout",
     "output_type": "stream",
     "text": [
      "k\t  a\t\t  Fa\t\t  b\t\t  Fb\t\t  x\t\t  Fx\t\tintervX\n",
      "1\t0.000000e+00\t5.000000e+00\t1.000000e+00\t-4.000000e+00\t5.555556e-01\t2.085048e+00\t1.000000e+00\n",
      "2\t5.555556e-01\t2.085048e+00\t1.000000e+00\t-4.000000e+00\t7.078449e-01\t3.442176e-01\t4.444444e-01\n",
      "3\t7.078449e-01\t3.442176e-01\t1.000000e+00\t-4.000000e+00\t7.309941e-01\t4.708530e-02\t2.921551e-01\n",
      "4\t7.309941e-01\t4.708530e-02\t1.000000e+00\t-4.000000e+00\t7.341238e-01\t6.269904e-03\t2.690059e-01\n",
      "5\t7.341238e-01\t6.269904e-03\t1.000000e+00\t-4.000000e+00\t7.345399e-01\t8.319008e-04\t2.658762e-01\n",
      "6\t7.345399e-01\t8.319008e-04\t1.000000e+00\t-4.000000e+00\t7.345951e-01\t1.103251e-04\t2.654601e-01\n",
      "7\t7.345951e-01\t1.103251e-04\t1.000000e+00\t-4.000000e+00\t7.346024e-01\t1.463018e-05\t2.654049e-01\n",
      "Tempo de execu¸c~ao total: 1.876305e-04 segundos\n"
     ]
    }
   ],
   "source": [
    "start = timer()\n",
    "false_pos(f1,0,1,0.0001)\n",
    "end = timer()\n",
    "print(\"Tempo de execu¸c~ao total: %e segundos\" % (end - start))"
   ]
  },
  {
   "cell_type": "code",
   "execution_count": 43,
   "metadata": {},
   "outputs": [
    {
     "name": "stdout",
     "output_type": "stream",
     "text": [
      "k\t  a\t\t  Fa\t\t  b\t\t  Fb\t\t  x\t\t  Fx\t\tintervX\n",
      "1\t0.000000e+00\t8.529412e+00\t1.000000e+00\t-1.050000e+01\t4.482226e-01\t2.517243e+01\t1.000000e+00\n",
      "2\t4.482226e-01\t2.517243e+01\t1.000000e+00\t-1.050000e+01\t8.375871e-01\t-2.080265e+01\t5.517774e-01\n",
      "3\t4.482226e-01\t2.517243e+01\t8.375871e-01\t-2.080265e+01\t6.614087e-01\t-9.778187e+00\t3.893645e-01\n",
      "4\t4.482226e-01\t2.517243e+01\t6.614087e-01\t-9.778187e+00\t6.017653e-01\t-2.715931e+00\t2.131862e-01\n",
      "5\t4.482226e-01\t2.517243e+01\t6.017653e-01\t-2.715931e+00\t5.868124e-01\t-8.641204e-01\t1.535427e-01\n",
      "6\t4.482226e-01\t2.517243e+01\t5.868124e-01\t-8.641204e-01\t5.822128e-01\t-2.823263e-01\t1.385898e-01\n",
      "7\t4.482226e-01\t2.517243e+01\t5.822128e-01\t-2.823263e-01\t5.807267e-01\t-9.289692e-02\t1.339902e-01\n",
      "8\t4.482226e-01\t2.517243e+01\t5.807267e-01\t-9.289692e-02\t5.802395e-01\t-3.063323e-02\t1.325041e-01\n",
      "9\t4.482226e-01\t2.517243e+01\t5.802395e-01\t-3.063323e-02\t5.800790e-01\t-1.010852e-02\t1.320169e-01\n",
      "10\t4.482226e-01\t2.517243e+01\t5.800790e-01\t-1.010852e-02\t5.800261e-01\t-3.336424e-03\t1.318564e-01\n",
      "Tempo de execu¸c~ao total: 2.457188e-04 segundos\n"
     ]
    }
   ],
   "source": [
    "start = timer()\n",
    "false_pos(f2,0,1,0.01)\n",
    "end = timer()\n",
    "print(\"Tempo de execu¸c~ao total: %e segundos\" % (end - start))"
   ]
  },
  {
   "cell_type": "code",
   "execution_count": 44,
   "metadata": {},
   "outputs": [
    {
     "name": "stdout",
     "output_type": "stream",
     "text": [
      "k\t  a\t\t  Fa\t\t  b\t\t  Fb\t\t  x\t\t  Fx\t\tintervX\n",
      "1\t4.000000e+00\t-1.784985e+01\t5.000000e+00\t2.105056e+01\t4.458860e+00\t-1.083556e+01\t1.000000e+00\n",
      "2\t4.458860e+00\t-1.083556e+01\t5.000000e+00\t2.105056e+01\t4.642751e+00\t-3.612671e+00\t5.411397e-01\n",
      "3\t4.642751e+00\t-3.612671e+00\t5.000000e+00\t2.105056e+01\t4.695081e+00\t-9.468674e-01\t3.572493e-01\n",
      "4\t4.695081e+00\t-9.468674e-01\t5.000000e+00\t2.105056e+01\t4.708206e+00\t-2.318845e-01\t3.049194e-01\n",
      "5\t4.708206e+00\t-2.318845e-01\t5.000000e+00\t2.105056e+01\t4.711385e+00\t-5.583220e-02\t2.917943e-01\n",
      "6\t4.711385e+00\t-5.583220e-02\t5.000000e+00\t2.105056e+01\t4.712148e+00\t-1.338796e-02\t2.886151e-01\n",
      "7\t4.712148e+00\t-1.338796e-02\t5.000000e+00\t2.105056e+01\t4.712331e+00\t-3.207123e-03\t2.878516e-01\n",
      "8\t4.712331e+00\t-3.207123e-03\t5.000000e+00\t2.105056e+01\t4.712375e+00\t-7.680940e-04\t2.876686e-01\n",
      "9\t4.712375e+00\t-7.680940e-04\t5.000000e+00\t2.105056e+01\t4.712386e+00\t-1.839452e-04\t2.876248e-01\n",
      "10\t4.712386e+00\t-1.839452e-04\t5.000000e+00\t2.105056e+01\t4.712388e+00\t-4.405111e-05\t2.876143e-01\n",
      "11\t4.712388e+00\t-4.405111e-05\t5.000000e+00\t2.105056e+01\t4.712389e+00\t-1.054930e-05\t2.876118e-01\n",
      "12\t4.712389e+00\t-1.054930e-05\t5.000000e+00\t2.105056e+01\t4.712389e+00\t-2.526331e-06\t2.876112e-01\n",
      "Tempo de execu¸c~ao total: 4.652208e-04 segundos\n"
     ]
    }
   ],
   "source": [
    "start = timer()\n",
    "false_pos(f3,4,5,0.00001)\n",
    "end = timer()\n",
    "print(\"Tempo de execu¸c~ao total: %e segundos\" % (end - start))"
   ]
  },
  {
   "cell_type": "code",
   "execution_count": 48,
   "metadata": {},
   "outputs": [
    {
     "name": "stdout",
     "output_type": "stream",
     "text": [
      "k\t  a\t\t  Fa\t\t  b\t\t  Fb\t\t  x\t\t  Fx\t\tintervX\n",
      "1\t4.000000e+00\t2.842179e+00\t5.000000e+00\t8.380515e+00\t3.486817e+00\t3.127191e+00\t1.000000e+00\n",
      "2\t3.486817e+00\t3.127191e+00\t5.000000e+00\t8.380515e+00\t2.586052e+00\t3.206807e+00\t1.513183e+00\n",
      "3\t2.586052e+00\t3.206807e+00\t5.000000e+00\t8.380515e+00\t1.089821e+00\t-8.264329e-01\t2.413948e+00\n",
      "4\t2.586052e+00\t3.206807e+00\t1.089821e+00\t-8.264329e-01\t1.396407e+00\t-4.279630e+00\t1.496231e+00\n",
      "5\t2.586052e+00\t3.206807e+00\t1.396407e+00\t-4.279630e+00\t2.076469e+00\t3.882531e+00\t1.189645e+00\n",
      "6\t2.076469e+00\t3.882531e+00\t1.396407e+00\t-4.279630e+00\t1.752981e+00\t7.181064e+00\t6.800621e-01\n",
      "7\t1.752981e+00\t7.181064e+00\t1.396407e+00\t-4.279630e+00\t1.529558e+00\t-2.270588e+01\t3.565740e-01\n",
      "8\t1.752981e+00\t7.181064e+00\t1.529558e+00\t-2.270588e+01\t1.699298e+00\t9.438424e+00\t2.234228e-01\n",
      "9\t1.699298e+00\t9.438424e+00\t1.529558e+00\t-2.270588e+01\t1.649458e+00\t1.433595e+01\t1.697401e-01\n",
      "10\t1.649458e+00\t1.433595e+01\t1.529558e+00\t-2.270588e+01\t1.603054e+00\t3.259271e+01\t1.198999e-01\n",
      "11\t1.603054e+00\t3.259271e+01\t1.529558e+00\t-2.270588e+01\t1.559736e+00\t-8.884742e+01\t7.349614e-02\n",
      "12\t1.603054e+00\t3.259271e+01\t1.559736e+00\t-8.884742e+01\t1.591428e+00\t5.005374e+01\t4.331826e-02\n",
      "13\t1.591428e+00\t5.005374e+01\t1.559736e+00\t-8.884742e+01\t1.580008e+00\t1.101406e+02\t3.169229e-02\n",
      "14\t1.580008e+00\t1.101406e+02\t1.559736e+00\t-8.884742e+01\t1.568787e+00\t-4.961087e+02\t2.027181e-02\n",
      "15\t1.580008e+00\t1.101406e+02\t1.568787e+00\t-4.961087e+02\t1.577969e+00\t1.409932e+02\t1.122052e-02\n",
      "16\t1.577969e+00\t1.409932e+02\t1.568787e+00\t-4.961087e+02\t1.575937e+00\t1.961011e+02\t9.182027e-03\n",
      "17\t1.575937e+00\t1.961011e+02\t1.568787e+00\t-4.961087e+02\t1.573911e+00\t3.225899e+02\t7.150008e-03\n",
      "18\t1.573911e+00\t3.225899e+02\t1.568787e+00\t-4.961087e+02\t1.571892e+00\t9.140364e+02\t5.124431e-03\n",
      "19\t1.571892e+00\t9.140364e+02\t1.568787e+00\t-4.961087e+02\t1.569879e+00\t-1.089114e+03\t3.105263e-03\n",
      "20\t1.571892e+00\t9.140364e+02\t1.569879e+00\t-1.089114e+03\t1.570974e+00\t5.635430e+03\t2.012788e-03\n",
      "21\t1.570974e+00\t5.635430e+03\t1.569879e+00\t-1.089114e+03\t1.570057e+00\t-1.350488e+03\t1.094354e-03\n",
      "Tempo de execu¸c~ao total: 1.313927e-03 segundos\n"
     ]
    }
   ],
   "source": [
    "start = timer()\n",
    "false_pos(f6,4,5,0.001) \n",
    "end = timer()\n",
    "print(\"Tempo de execu¸c~ao total: %e segundos\" % (end - start))"
   ]
  },
  {
   "cell_type": "code",
   "execution_count": null,
   "metadata": {},
   "outputs": [],
   "source": []
  },
  {
   "cell_type": "code",
   "execution_count": 56,
   "metadata": {},
   "outputs": [
    {
     "data": {
      "image/png": "[encoded data removed]",
      "text/plain": [
       "<Figure size 432x288 with 4 Axes>"
      ]
     },
     "metadata": {},
     "output_type": "display_data"
    }
   ],
   "source": [
    "fig, axes = plt.subplots(nrows=2, ncols=2)\n",
    "\n",
    "#grafico 1\n",
    "\n",
    "(x,y) = f(1,a=0,b=1,plot = True)\n",
    "(erro,raiz) = false_pos(f1,0,1,0.0001)\n",
    "\n",
    "axes[0][0].plot(x,y,'r',label = 'f(x)')\n",
    "axes[0][0].plot(raiz, f(1,raiz), 'o')\n",
    "axes[0][0].grid()\n",
    "axes[0][0].set_ylabel(\"f(x)\")\n",
    "axes[0][0].set_title(\"Fução de teste 1\")\n",
    "\n",
    "#grafico 2\n",
    "\n",
    "(x,y) = f(2,a=0,b=1,plot = True)\n",
    "(erro,raiz) = false_pos(f2,0,1,0.01)\n",
    "\n",
    "axes[0][1].plot(x,y,'r',label = 'f(x)')\n",
    "axes[0][1].plot(raiz, f(2,raiz), 'o')\n",
    "axes[0][1].grid()\n",
    "axes[0][1].set_ylabel(\"f(x)\")\n",
    "axes[0][1].set_title(\"Fução de teste 2\")\n",
    "\n",
    "#grafico 3\n",
    "\n",
    "(x,y) = f(3,a=4,b=5,plot = True)\n",
    "(erro,raiz) = false_pos(f3,4,5,0.00001)\n",
    "\n",
    "axes[1][0].plot(x,y,'r',label = 'f(x)')\n",
    "axes[1][0].plot(raiz, f(3,raiz), 'o')\n",
    "axes[1][0].grid()\n",
    "axes[1][0].set_ylabel(\"f(x)\")\n",
    "axes[1][0].set_title(\"Fução de teste 3\")\n",
    "\n",
    "#grafico 4\n",
    "\n",
    "(x,y) = f(6,a=4.4,b=5,plot = True)\n",
    "#(erro,raiz) = bissecao(f6,4,5,0.001) Como esse da erro, só olha por fora...\n",
    "\n",
    "axes[1][1].plot(x,y,'r',label = 'f(x)')\n",
    "axes[1][1].plot(4.71240234375, 100, 'o')\n",
    "axes[1][1].grid()\n",
    "axes[1][1].set_ylabel(\"f(x)\")\n",
    "axes[1][1].set_title(\"Fução de teste 6\")\n",
    "\n",
    "\n",
    "plt.subplots_adjust(hspace=0.5, wspace=0.5)"
   ]
  },
  {
   "cell_type": "code",
   "execution_count": null,
   "metadata": {},
   "outputs": [],
   "source": []
  }
 ],
 "metadata": {
  "kernelspec": {
   "display_name": "Python 3",
   "language": "python",
   "name": "python3"
  },
  "language_info": {
   "codemirror_mode": {
    "name": "ipython",
    "version": 3
   },
   "file_extension": ".py",
   "mimetype": "text/x-python",
   "name": "python",
   "nbconvert_exporter": "python",
   "pygments_lexer": "ipython3",
   "version": "3.6.5"
  }
 },
 "nbformat": 4,
 "nbformat_minor": 2
}
