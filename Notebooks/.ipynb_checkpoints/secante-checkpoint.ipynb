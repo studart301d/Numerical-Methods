{
 "cells": [
  {
   "cell_type": "markdown",
   "metadata": {},
   "source": [
    "# Método da Secante\n",
    "## Objetivo\n",
    "O objetivo desse notebook é implementar o método da Secante em Python e aplicá-lo para achar as raízes de equações não lineares.\n",
    "\n",
    "## Implementação\n",
    "Nós iremos implementar o algoritmo parte por parte, de acordo com a estratégia mostrada em sala. As instruções estão nos comentários na função abaixo. Você só precisa editar onde estiver indicado. O método da Secante é uma variação do método de Newton, então você pode copiar boa parte da implementação que você já fez. \n",
    "\n",
    "Para executar uma célula, selecione a célula e pressione ```Ctrl + Enter```. Após implementar a função ```false_pos``` você deve executar cada uma das células, preferencialmente na ordem em que elas aparecem.\n"
   ]
  },
  {
   "cell_type": "code",
   "execution_count": 3,
   "metadata": {},
   "outputs": [],
   "source": [
    "import numpy as np"
   ]
  },
  {
   "cell_type": "code",
   "execution_count": 2,
   "metadata": {},
   "outputs": [],
   "source": [
    "def secante(f, x0, x1, epsilson, iterMax=50):\n",
    "    \"\"\"Executa o método da Secante para achar o zero de f  \n",
    "       a partir das aproximações x0 e x1, e da tolerância \n",
    "       epsilon.\n",
    "       Retorna uma tupla (houveErro, raiz), onde houveErro é booleano.\n",
    "    \"\"\"\n",
    "    ## Teste se x0 e x1 já são raízes\n",
    "    if f(x0) == 0:\n",
    "        return (False,x0)\n",
    "    \n",
    "    if f(x1) == 0:\n",
    "        return (False,x1)\n",
    "    \n",
    "    ## Escreva o cabeçalho da tabela e as linhas para x0 e x1\n",
    "    print(\"k\\t  x\\t\\t  f(x2)\\t\\t\")\n",
    "    print(\"-\\t%e\\t%e\"%(x0, f(x0)))\n",
    "    print(\"-\\t%e\\t%e\"%(x1, f(x1)))\n",
    "    \n",
    "    ## Inicie as iterações (pode ser um for)\n",
    "    for i in range(iterMax):\n",
    "        ## Em cada iteração: \n",
    "        ##Calcule x2 a partir de x0 e x1\n",
    "        x2 = (x0*f(x1) - x1*f(x0))/(f(x1) - f(x0))\n",
    "        Fx = f(x2)\n",
    "        ##    Escreva os valores de k, x2, f(x2)\n",
    "        print(\"%d\\t%e\\t%e\"%(i, x2, Fx))\n",
    "\n",
    "        ##    Teste para o critério de parada usando módulo da função\n",
    "        if abs(Fx) < epsilson:\n",
    "              return (False,x2)\n",
    "        ##    Atualize o valor de x0 e x1\n",
    "        x0 = x1\n",
    "        x1 = x2\n",
    "          \n",
    "    ## Se atingir o número máximo de iterações mostra mensagem de erro e retorna\n",
    "    ## a última raiz encontrada\n",
    "    print(\"ERRO! número máximo de iterações atingido.\")\n",
    "    return (True, x2)"
   ]
  },
  {
   "cell_type": "markdown",
   "metadata": {},
   "source": [
    "Agora precisamos testar se a função está implementada corretamente. Iremos usar o exemplo mostrado em sala: f(x) = x^3-9x+3. Inicialmente vamos definir a função f:"
   ]
  },
  {
   "cell_type": "code",
   "execution_count": 4,
   "metadata": {},
   "outputs": [],
   "source": [
    "def f(x):\n",
    "    return x**2 - 4 + np.sin(x)"
   ]
  },
  {
   "cell_type": "markdown",
   "metadata": {},
   "source": [
    "Não se esqueça de executar as células de código acima"
   ]
  },
  {
   "cell_type": "markdown",
   "metadata": {},
   "source": [
    "Depois iremos definir os parâmetros que serão passados para a função ```secante```:"
   ]
  },
  {
   "cell_type": "code",
   "execution_count": 5,
   "metadata": {},
   "outputs": [],
   "source": [
    "## Inicialização dos parâmetros\n",
    "x0 = 1\n",
    "x1 = 1.5\n",
    "epsilson = 0.001\n",
    "maxIter=50\n"
   ]
  },
  {
   "cell_type": "markdown",
   "metadata": {},
   "source": [
    "Agora podemos chamar a função ```secante``` com os parâmetros definidos. Lembre-se de que a função retorna uma tupla:"
   ]
  },
  {
   "cell_type": "code",
   "execution_count": 6,
   "metadata": {},
   "outputs": [
    {
     "name": "stdout",
     "output_type": "stream",
     "text": [
      "k\t  x\t\t  f(x2)\t\t\n",
      "-\t1.000000e+00\t-2.158529e+00\n",
      "-\t1.500000e+00\t-7.525050e-01\n",
      "0\t1.767600e+00\t1.051075e-01\n",
      "1\t1.734804e+00\t-3.875169e-03\n",
      "2\t1.735970e+00\t-1.872654e-05\n"
     ]
    }
   ],
   "source": [
    "## Chamando a função newton com os parâmetros definidos nas células acima\n",
    "(houveErro, raiz) = secante(f,x0,x1,epsilson,maxIter)"
   ]
  },
  {
   "cell_type": "markdown",
   "metadata": {},
   "source": [
    "Ao executar a célula acima, você verá uma tabela de resultados. Confira a saída do seu programa com a saída abaixo:\n",
    "```\n",
    "k\t  x\t\t  f(x)\n",
    "-\t0.000000e+00\t3.000000e+00\n",
    "-\t1.000000e+00\t-5.000000e+00\n",
    "1\t3.750000e-01\t-3.222656e-01\n",
    "2\t3.319415e-01\t4.910114e-02\n",
    "3\t3.376346e-01\t-2.222064e-04\n",
    "```\n",
    "Agora precisamos testar o valor de houveErro e mostrar a raiz se não houver erro:"
   ]
  },
  {
   "cell_type": "code",
   "execution_count": null,
   "metadata": {
    "collapsed": true
   },
   "outputs": [],
   "source": [
    "#if houveErro:\n",
    "    #print...\n",
    "#if raiz is not None:\n",
    "    #print..."
   ]
  },
  {
   "cell_type": "markdown",
   "metadata": {},
   "source": [
    "Se tudo deu certo, ao executar a célula acima, você deverá ver:\n",
    "\n",
    "```Raiz encontrada: 0.33763462072303707```"
   ]
  }
 ],
 "metadata": {
  "kernelspec": {
   "display_name": "Python 3",
   "language": "python",
   "name": "python3"
  },
  "language_info": {
   "codemirror_mode": {
    "name": "ipython",
    "version": 3
   },
   "file_extension": ".py",
   "mimetype": "text/x-python",
   "name": "python",
   "nbconvert_exporter": "python",
   "pygments_lexer": "ipython3",
   "version": "3.6.5"
  }
 },
 "nbformat": 4,
 "nbformat_minor": 2
}
