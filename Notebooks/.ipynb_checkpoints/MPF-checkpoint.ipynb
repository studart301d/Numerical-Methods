{
 "cells": [
  {
   "cell_type": "markdown",
   "metadata": {},
   "source": [
    "# MPF"
   ]
  },
  {
   "cell_type": "code",
   "execution_count": 14,
   "metadata": {},
   "outputs": [],
   "source": [
    "def MPF(f, fi,x0, epsilson, iterMax=50):\n",
    "   \n",
    "    ## Teste se x0 já é logo a raiz\n",
    "    if f(x0) == 0:\n",
    "        return (False,x0)\n",
    "\n",
    "    ## Escreva o cabeçalho da tabela e o valor da aproximação inicial\n",
    "    print(\"k\\t  x\\t\\t  f(x1)\\t\")\n",
    "    \n",
    "    ## Inicie as iterações (pode ser um for)\n",
    "    for i in range(iterMax):\n",
    "        ## Em cada iteração: \n",
    "        ##    Calcule x1 a partir de x0\n",
    "        x = fi(x0)\n",
    "        Fx = f(x)\n",
    "        ##    Escreva os valores de k, x1, f(x1)\n",
    "        print(\"%d\\t%e\\t%e\"%(i, x, Fx))\n",
    "\n",
    "        ##    Teste para o critério de parada usando módulo da função\n",
    "        if abs(Fx) < epsilson:\n",
    "              return (False,x)\n",
    "        ##    Atualize o valor de x0\n",
    "        x0 = x\n",
    "          \n",
    "    ## Se atingir o número máximo de iterações mostra mensagem de erro e retorna\n",
    "    ## a última raiz encontrada\n",
    "    print(\"ERRO! número máximo de iterações atingido.\")\n",
    "    return (True, x)"
   ]
  },
  {
   "cell_type": "code",
   "execution_count": 15,
   "metadata": {},
   "outputs": [],
   "source": [
    "import math\n",
    "def f(x):\n",
    "    return math.exp(-x**2) - math.cos(x)"
   ]
  },
  {
   "cell_type": "code",
   "execution_count": 16,
   "metadata": {},
   "outputs": [],
   "source": [
    "def fi(x):\n",
    "    return math.cos(x) - math.exp(-x**2) + x"
   ]
  },
  {
   "cell_type": "code",
   "execution_count": 17,
   "metadata": {},
   "outputs": [],
   "source": [
    "x0 = 1\n",
    "epsilson = 0.000001\n",
    "iterMax = 50"
   ]
  },
  {
   "cell_type": "code",
   "execution_count": 18,
   "metadata": {},
   "outputs": [
    {
     "name": "stdout",
     "output_type": "stream",
     "text": [
      "k\t  x\t\t  f(x1)\t\n",
      "0\t1.172423e+00\t-1.349727e-01\n",
      "1\t1.307396e+00\t-7.937003e-02\n",
      "2\t1.386766e+00\t-3.684328e-02\n",
      "3\t1.423609e+00\t-1.488195e-02\n",
      "4\t1.438491e+00\t-5.640120e-03\n",
      "5\t1.444131e+00\t-2.083722e-03\n",
      "6\t1.446215e+00\t-7.624485e-04\n",
      "7\t1.446977e+00\t-2.779965e-04\n",
      "8\t1.447255e+00\t-1.012289e-04\n",
      "9\t1.447356e+00\t-3.684375e-05\n",
      "10\t1.447393e+00\t-1.340752e-05\n",
      "11\t1.447407e+00\t-4.878720e-06\n",
      "12\t1.447411e+00\t-1.775225e-06\n",
      "13\t1.447413e+00\t-6.459476e-07\n"
     ]
    }
   ],
   "source": [
    "(houveErro,raiz) = MPF(f,fi,x0,epsilson,iterMax)"
   ]
  },
  {
   "cell_type": "code",
   "execution_count": null,
   "metadata": {},
   "outputs": [],
   "source": []
  }
 ],
 "metadata": {
  "kernelspec": {
   "display_name": "Python 3",
   "language": "python",
   "name": "python3"
  },
  "language_info": {
   "codemirror_mode": {
    "name": "ipython",
    "version": 3
   },
   "file_extension": ".py",
   "mimetype": "text/x-python",
   "name": "python",
   "nbconvert_exporter": "python",
   "pygments_lexer": "ipython3",
   "version": "3.6.5"
  }
 },
 "nbformat": 4,
 "nbformat_minor": 2
}
