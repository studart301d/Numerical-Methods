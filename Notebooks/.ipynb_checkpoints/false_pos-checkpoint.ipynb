{
 "cells": [
  {
   "cell_type": "markdown",
   "metadata": {},
   "source": [
    "# Método da Posição Falsa"
   ]
  },
  {
   "cell_type": "code",
   "execution_count": 2,
   "metadata": {},
   "outputs": [],
   "source": [
    "def false_pos(f, a, b, epsilon, maxIter = 50):\n",
    "    \n",
    "    \"\"\"Executa o método da Posição Falsa para achar o zero de f no intervalo \n",
    "       [a,b] com precisão epsilon. O método executa no máximo maxIter\n",
    "       iterações.\n",
    "       Retorna uma tupla (houveErro, raiz), onde houveErro é booleano.\n",
    "    \"\"\"\n",
    "    ## Inicializar as variáveis Fa e Fb\n",
    "    Fa = f(a)\n",
    "    Fb = f(b)\n",
    "    \n",
    "    ## Teste para saber se a função muda de sinal. Se não mudar, mostrar\n",
    "    ## mensagem de erro\n",
    "    if Fa*Fb > 0 :\n",
    "        print(\"Erro! A função não muda de sinal.\")\n",
    "        return (True, None)\n",
    "    \n",
    "    ## Inicializa o tamanho do intervalo intervX usando a função abs\n",
    "    intervX = abs(b - a)\n",
    "    \n",
    "    ## Teste se intervalo já é do tamanho da precisão e retorna a raiz sem erros\n",
    "    if intervX < epsilon:\n",
    "        x = (a*f(b) - b*f(a))/(f(b) - f(a))\n",
    "        return (False,x)\n",
    "    \n",
    "    ## Testes se raiz está nos extremos dos intervalos\n",
    "    \n",
    "    ## Teste se a é raiz, se for, retorna o próprio a sem erros\n",
    "    if Fa == 0:\n",
    "        return (False,a)\n",
    "    \n",
    "    ## Teste se b é raiz, se for, retorna o próprio b sem erros\n",
    "    if Fb == 0:\n",
    "        return (False,b)\n",
    "    \n",
    "    ## Mostra na tela cabeçalho da tabela\n",
    "    print(\"k\\t  a\\t\\t  Fa\\t\\t  b\\t\\t  Fb\\t\\t  x\\t\\t  Fx\\t\\tintervX\")\n",
    "    \n",
    "    ## Iniciliza o k, dessa vez usaremos um for\n",
    "    for k in range(1, maxIter+1):\n",
    "        ## Calcula x, Fx\n",
    "        x = (a*f(b) - b*f(a))/(f(b) - f(a))\n",
    "        Fx = f(x)\n",
    "        \n",
    "        ## Mostra valores na tela\n",
    "        print(\"%d\\t%e\\t%e\\t%e\\t%e\\t%e\\t%e\\t%e\"%(k,a, Fa, b, Fb, x, Fx, intervX))\n",
    "        \n",
    "        ## Teste do critério de parada módulo da função\n",
    "        if abs(Fx) < epsilon:\n",
    "            return(False,x)\n",
    "        \n",
    "        ## Testes para saber se a raiz está entre a e x ou entre x e b e atualiza\n",
    "        ## as variáveis apropriadamente\n",
    "        \n",
    "        if Fa * Fx > 0 :\n",
    "            a = x\n",
    "            Fa = Fx\n",
    "        else:\n",
    "            b = x\n",
    "            Fb = Fx\n",
    "        \n",
    "        ## Atualiza intervX e checa o outro critério de parada: tamanho do intervalo\n",
    "        intervX = abs(b - a)\n",
    "        if intervX < epsilon:\n",
    "            return(False,x)\n",
    "       \n",
    "    ## Mostrar uma mensagem de erro e retorna que houve erro e a última raiz encontrada\n",
    "    print(\"ERRO! número máximo de iterações atingido.\")\n",
    "    return (True, x)\n"
   ]
  },
  {
   "cell_type": "markdown",
   "metadata": {},
   "source": [
    "Agora precisamos testar se a função está implementada corretamente. Iremos usar o exemplo mostrado em sala: f(x) = x^3-9x+3. Inicialmente vamos definir a função f:"
   ]
  },
  {
   "cell_type": "code",
   "execution_count": 3,
   "metadata": {},
   "outputs": [],
   "source": [
    "def f(x):\n",
    "    return x**3 - 9*x + 3"
   ]
  },
  {
   "cell_type": "markdown",
   "metadata": {},
   "source": [
    "Não se esqueça de executar as células de código acima"
   ]
  },
  {
   "cell_type": "markdown",
   "metadata": {},
   "source": [
    "Depois iremos definir os parâmetros que serão passados para a função bissecao:"
   ]
  },
  {
   "cell_type": "code",
   "execution_count": 4,
   "metadata": {},
   "outputs": [],
   "source": [
    "a = 0\n",
    "b = 1\n",
    "epsilon = 0.001\n",
    "maxIter = 20"
   ]
  },
  {
   "cell_type": "markdown",
   "metadata": {},
   "source": [
    "Agora podemos chamar a função ```false_pos``` com os parâmetros definidos. Lembre-se de que a função retorna uma tupla:"
   ]
  },
  {
   "cell_type": "code",
   "execution_count": 5,
   "metadata": {},
   "outputs": [
    {
     "name": "stdout",
     "output_type": "stream",
     "text": [
      "k\t  a\t\t  Fa\t\t  b\t\t  Fb\t\t  x\t\t  Fx\t\tintervX\n",
      "1\t0.000000e+00\t3.000000e+00\t1.000000e+00\t-5.000000e+00\t3.750000e-01\t-3.222656e-01\t1.000000e+00\n",
      "2\t0.000000e+00\t3.000000e+00\t3.750000e-01\t-3.222656e-01\t3.386243e-01\t-8.790199e-03\t3.750000e-01\n",
      "3\t0.000000e+00\t3.000000e+00\t3.386243e-01\t-8.790199e-03\t3.376350e-01\t-2.258842e-04\t3.386243e-01\n"
     ]
    },
    {
     "data": {
      "text/plain": [
       "(False, 0.33763504551140067)"
      ]
     },
     "execution_count": 5,
     "metadata": {},
     "output_type": "execute_result"
    }
   ],
   "source": [
    "(houveErro, raiz) = false_pos(f, a, b, epsilon, maxIter)"
   ]
  },
  {
   "cell_type": "markdown",
   "metadata": {},
   "source": [
    "Ao executar a célula acima, você verá a tabela de resultados como vista em sala. Agora precisamos testar o valor de houveErro e mostrar a raiz se não houver erro:"
   ]
  },
  {
   "cell_type": "code",
   "execution_count": 5,
   "metadata": {},
   "outputs": [
    {
     "name": "stdout",
     "output_type": "stream",
     "text": [
      "Raiz encontrada: 0.33763504551140067\n"
     ]
    }
   ],
   "source": [
    "if houveErro:\n",
    "    print(\"O Método da Posição Falsa retornou um erro.\")\n",
    "if raiz is not None:\n",
    "    print(\"Raiz encontrada: %s\" % raiz)"
   ]
  }
 ],
 "metadata": {
  "kernelspec": {
   "display_name": "Python 3",
   "language": "python",
   "name": "python3"
  },
  "language_info": {
   "codemirror_mode": {
    "name": "ipython",
    "version": 3
   },
   "file_extension": ".py",
   "mimetype": "text/x-python",
   "name": "python",
   "nbconvert_exporter": "python",
   "pygments_lexer": "ipython3",
   "version": "3.6.5"
  }
 },
 "nbformat": 4,
 "nbformat_minor": 2
}
