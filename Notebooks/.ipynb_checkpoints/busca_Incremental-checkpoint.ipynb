{
 "cells": [
  {
   "cell_type": "code",
   "execution_count": 1,
   "metadata": {},
   "outputs": [],
   "source": [
    "def busca_incremental(f,a,b,delta):\n",
    "    \n",
    "    if a > b :\n",
    "        print(\"Por definição o a é o inf do intervalo, portanto menor do que o b\")\n",
    "        return []\n",
    "    else:\n",
    "        \n",
    "        Fa = f(a)\n",
    "        b_fake = a + delta\n",
    "        Fbf = f(b_fake)\n",
    "\n",
    "        lista_raiz = []\n",
    "\n",
    "        interv = abs(b - a)\n",
    "\n",
    "        while interv >= delta :\n",
    "            if Fa*Fbf < 0:\n",
    "                lista_raiz.append([a,b_fake])\n",
    "                \n",
    "            a = b_fake\n",
    "            b_fake = a + delta\n",
    "            Fa = f(a)\n",
    "            Fbf = f(b_fake)\n",
    "\n",
    "            interv = abs(b - a)\n",
    "\n",
    "        return lista_raiz\n",
    "    "
   ]
  },
  {
   "cell_type": "code",
   "execution_count": 2,
   "metadata": {},
   "outputs": [],
   "source": [
    "def f(x):\n",
    "    return x**3 - 9*x + 3"
   ]
  },
  {
   "cell_type": "code",
   "execution_count": 8,
   "metadata": {},
   "outputs": [
    {
     "data": {
      "text/plain": [
       "[[0.3376079999978853, 0.3376089999978853]]"
      ]
     },
     "execution_count": 8,
     "metadata": {},
     "output_type": "execute_result"
    }
   ],
   "source": [
    "busca_incremental(f,a = 0,b = 1,delta = 0.000001)"
   ]
  }
 ],
 "metadata": {
  "kernelspec": {
   "display_name": "Python 3",
   "language": "python",
   "name": "python3"
  },
  "language_info": {
   "codemirror_mode": {
    "name": "ipython",
    "version": 3
   },
   "file_extension": ".py",
   "mimetype": "text/x-python",
   "name": "python",
   "nbconvert_exporter": "python",
   "pygments_lexer": "ipython3",
   "version": "3.6.5"
  }
 },
 "nbformat": 4,
 "nbformat_minor": 2
}
