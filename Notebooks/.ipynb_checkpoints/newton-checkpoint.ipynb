{
 "cells": [
  {
   "cell_type": "markdown",
   "metadata": {},
   "source": [
    "# Método de Newton-Raphson\n",
    "## Objetivo\n",
    "O objetivo desse notebook é implementar o método de Newton-Raphson em Python e aplicá-lo para achar as raízes de equações não lineares.\n",
    "\n",
    "## Implementação\n",
    "Nós iremos implementar o algoritmo parte por parte, de acordo com a estratégia mostrada em sala. As instruções estão nos comentários na função abaixo. Você só precisa editar onde estiver indicado. \n",
    "\n",
    "Para executar uma célula, selecione a célula e pressione ```Ctrl + Enter```. Após implementar a função ```false_pos``` você deve executar cada uma das células, preferencialmente na ordem em que elas aparecem.\n"
   ]
  },
  {
   "cell_type": "code",
   "execution_count": 12,
   "metadata": {},
   "outputs": [],
   "source": [
    "def newton(f, flin, x0, epsilson, iterMax=50):\n",
    "    \"\"\"Executa o método de Newton-Raphson para ac8har o zero de f  \n",
    "       a partir da derivada de f flin, aproximação inicial x0 \n",
    "       e tolerância epsilon.\n",
    "       Retorna uma tupla (houveErro, raiz), onde houveErro é booleano.\n",
    "    \"\"\"   \n",
    "    ## Teste se x0 já é logo a raiz\n",
    "    if f(x0) == 0:\n",
    "        return (False,x0)\n",
    "\n",
    "    ## Escreva o cabeçalho da tabela e o valor da aproximação inicial\n",
    "    print(\"k\\t  x\\t\\t  f(x1)\\t\")\n",
    "    \n",
    "    ## Inicie as iterações (pode ser um for)\n",
    "    for i in range(iterMax):\n",
    "        ## Em cada iteração: \n",
    "        ##    Calcule x1 a partir de x0\n",
    "        x = x0 - f(x0)/flin(x0)\n",
    "        Fx = f(x)\n",
    "        ##    Escreva os valores de k, x1, f(x1)\n",
    "        print(\"%d\\t%e\\t%e\"%(i, x, Fx))\n",
    "\n",
    "        ##    Teste para o critério de parada usando módulo da função\n",
    "        if abs(Fx) < epsilson:\n",
    "              return (False,x)\n",
    "        ##    Atualize o valor de x0\n",
    "        x0 = x\n",
    "          \n",
    "    ## Se atingir o número máximo de iterações mostra mensagem de erro e retorna\n",
    "    ## a última raiz encontrada\n",
    "    print(\"ERRO! número máximo de iterações atingido.\")\n",
    "    return (True, x)"
   ]
  },
  {
   "cell_type": "markdown",
   "metadata": {},
   "source": [
    "Agora precisamos testar se a função está implementada corretamente. Iremos usar o exemplo mostrado em sala: f(x) = x^3-9x+3. Inicialmente vamos definir a função f:"
   ]
  },
  {
   "cell_type": "code",
   "execution_count": 8,
   "metadata": {},
   "outputs": [],
   "source": [
    "def f(x):\n",
    "    return x**3 - 9*x + 3"
   ]
  },
  {
   "cell_type": "markdown",
   "metadata": {},
   "source": [
    "Na célula abaixo, defina ```flin```:"
   ]
  },
  {
   "cell_type": "code",
   "execution_count": 9,
   "metadata": {},
   "outputs": [],
   "source": [
    "## Definição da derivada de f\n",
    "def flin(x):\n",
    "    return 3*x**2 - 9"
   ]
  },
  {
   "cell_type": "markdown",
   "metadata": {},
   "source": [
    "Não se esqueça de executar as células de código acima"
   ]
  },
  {
   "cell_type": "markdown",
   "metadata": {},
   "source": [
    "Depois iremos definir os parâmetros que serão passados para a função ```newton```:"
   ]
  },
  {
   "cell_type": "code",
   "execution_count": 10,
   "metadata": {},
   "outputs": [],
   "source": [
    "## Inicialização dos parâmetros\n",
    "x0 = 0.5\n",
    "epsilson = 0.0001\n",
    "maxIter=50\n"
   ]
  },
  {
   "cell_type": "markdown",
   "metadata": {},
   "source": [
    "Agora podemos chamar a função ```newton``` com os parâmetros definidos. Lembre-se de que a função retorna uma tupla:"
   ]
  },
  {
   "cell_type": "code",
   "execution_count": 13,
   "metadata": {},
   "outputs": [
    {
     "name": "stdout",
     "output_type": "stream",
     "text": [
      "k\t  x\t\t  f(x1)\t\n",
      "0\t3.333333e-01\t3.703704e-02\n",
      "1\t3.376068e-01\t1.834089e-05\n"
     ]
    }
   ],
   "source": [
    "## Chamando a função newton com os parâmetros definidos nas células acima\n",
    "(houveErro, raiz) = newton(f,flin,x0,epsilson,maxIter)"
   ]
  },
  {
   "cell_type": "markdown",
   "metadata": {},
   "source": [
    "Ao executar a célula acima, você verá a tabela de resultados como vista em sala. Agora precisamos testar o valor de houveErro e mostrar a raiz se não houver erro:"
   ]
  },
  {
   "cell_type": "markdown",
   "metadata": {},
   "source": [
    "Se tudo deu certo, ao executar a célula acima, você deverá ver:\n",
    "\n",
    "```Raiz encontrada: 0.33760683760683763```"
   ]
  },
  {
   "cell_type": "code",
   "execution_count": 18,
   "metadata": {},
   "outputs": [],
   "source": [
    "def f(x):\n",
    "    return x**3 - x -1"
   ]
  },
  {
   "cell_type": "code",
   "execution_count": 21,
   "metadata": {},
   "outputs": [],
   "source": [
    "def flin(x):\n",
    "    return 3*x**2 - 1"
   ]
  },
  {
   "cell_type": "code",
   "execution_count": 22,
   "metadata": {},
   "outputs": [],
   "source": [
    "x0 = 0\n",
    "epsilson = 0.0000001\n",
    "maxIter=50\n"
   ]
  },
  {
   "cell_type": "code",
   "execution_count": 23,
   "metadata": {},
   "outputs": [
    {
     "name": "stdout",
     "output_type": "stream",
     "text": [
      "k\t  x\t\t  f(x1)\t\n",
      "0\t-1.000000e+00\t-1.000000e+00\n",
      "1\t-5.000000e-01\t-6.250000e-01\n",
      "2\t-3.000000e+00\t-2.500000e+01\n",
      "3\t-2.038462e+00\t-7.432010e+00\n",
      "4\t-1.390282e+00\t-2.296973e+00\n",
      "5\t-9.116119e-01\t-8.459706e-01\n",
      "6\t-3.450285e-01\t-6.960453e-01\n",
      "7\t-1.427751e+00\t-2.482679e+00\n",
      "8\t-9.424179e-01\t-8.945920e-01\n",
      "9\t-4.049494e-01\t-6.614559e-01\n",
      "10\t-1.706905e+00\t-4.266202e+00\n",
      "11\t-1.155756e+00\t-1.388072e+00\n",
      "12\t-6.941918e-01\t-6.403408e-01\n",
      "13\t7.424943e-01\t-1.333159e+00\n",
      "14\t2.781296e+00\t1.773372e+01\n",
      "15\t1.982725e+00\t4.811763e+00\n",
      "16\t1.536927e+00\t1.093519e+00\n",
      "17\t1.357262e+00\t1.430341e-01\n",
      "18\t1.325663e+00\t4.034214e-03\n",
      "19\t1.324719e+00\t3.545493e-06\n",
      "20\t1.324718e+00\t2.747136e-12\n"
     ]
    }
   ],
   "source": [
    "(houveErro, raiz) = newton(f,flin,x0,epsilson,maxIter)"
   ]
  },
  {
   "cell_type": "code",
   "execution_count": null,
   "metadata": {},
   "outputs": [],
   "source": []
  }
 ],
 "metadata": {
  "kernelspec": {
   "display_name": "Python 3",
   "language": "python",
   "name": "python3"
  },
  "language_info": {
   "codemirror_mode": {
    "name": "ipython",
    "version": 3
   },
   "file_extension": ".py",
   "mimetype": "text/x-python",
   "name": "python",
   "nbconvert_exporter": "python",
   "pygments_lexer": "ipython3",
   "version": "3.6.5"
  }
 },
 "nbformat": 4,
 "nbformat_minor": 2
}
