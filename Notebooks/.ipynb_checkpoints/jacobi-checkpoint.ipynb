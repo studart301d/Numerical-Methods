{
 "cells": [
  {
   "cell_type": "markdown",
   "metadata": {},
   "source": [
    "# Método Iterativo de Gauss-Jacobi\n",
    "## Objetivos\n",
    "Os objetivos desse notebook são dois:\n",
    "\n",
    "1. Implementar uma função que calcula a norma-infinito de dois vetores\n",
    "\n",
    "2. Implementar o método de Gauss-Jacobi e testá-lo\n",
    " \n",
    "\n",
    "## Implementação\n",
    "Nós iremos implementar os algoritmos parte por parte, de acordo com as estratégias mostradas em sala. As instruções estão nos comentários nas funções abaixo. Você só precisa editar onde estiver indicado. \n",
    "\n",
    "Para executar uma célula, selecione a célula e pressione ```Ctrl + Enter```. Após implementar as funções abaixo, você deve executar cada uma das células, preferencialmente na ordem em que elas aparecem.\n"
   ]
  },
  {
   "cell_type": "markdown",
   "metadata": {},
   "source": [
    "### Norma de vetores\n",
    "\n",
    "Implemente a norma-$\\infty$ para vetores conforme a equação abaixo:\n",
    "\n",
    "$\\frac{\\max_{1\\leq i\\leq n}|v_i - x_i|}{\\max_{1\\leq i\\leq n}|v_i|}$\n",
    "\n",
    "* Crie duas variaveis uma para guardar o máximo do numerador e outra para guardar o máximo do denominador e as inicialize com zero.\n",
    " \n",
    "* Depois percorra em um loop em i, os componentes de v e x, calculando a diferença de cada componente. Se |v[i]-x[i]| > máximo do numerador, atualize o máximo do numerador com esse valor. Da mesma forma se |v[i]| > máximo do denominador, atualize o máximo do denominador com esse valor.\n",
    " \n",
    "* Por fim retorne o máximo do numerador dividido pelo máximo do denominador."
   ]
  },
  {
   "cell_type": "code",
   "execution_count": null,
   "metadata": {
    "collapsed": true
   },
   "outputs": [],
   "source": [
    "def norma(v,x):\n",
    "    \"\"\"Calcula a norma entre dois vetores v e x.\n",
    "    \"\"\"\n",
    "    n = len(v)\n",
    "    # escreva o código aqui\n",
    "    "
   ]
  },
  {
   "cell_type": "markdown",
   "metadata": {},
   "source": [
    "Agora precisamos testar se a função está implementada corretamente. Iremos usar o exemplo mostrado em sala.\n",
    "\n",
    "$x^{(0)} = \\left(\\begin{array}{r}\n",
    "0.7\\\\\n",
    "-1.6\\\\\n",
    "0.6\\\\\n",
    "\\end{array}\\right)\\ e\\ x^{(1)}= \\left(\\begin{array}{r}\n",
    "0.96\\\\\n",
    "-1.86\\\\\n",
    "0.94\\\\\n",
    "\\end{array}\\right) $"
   ]
  },
  {
   "cell_type": "code",
   "execution_count": null,
   "metadata": {
    "collapsed": true
   },
   "outputs": [],
   "source": [
    "## Defina x0 e x1, calcule a norma d e mostre o seu valor\n",
    "# Escreva o seu código aqui\n",
    "x = [0.96,-1.]\n"
   ]
  },
  {
   "cell_type": "markdown",
   "metadata": {},
   "source": [
    "Se estiver tudo ok, ao executar a célula acima, você deve ver a resposta:\n",
    "```\n",
    "0.18279569892473116\n",
    "```"
   ]
  },
  {
   "cell_type": "markdown",
   "metadata": {},
   "source": [
    "### Método de Gauss-Jacobi\n",
    "\n",
    "Iremos seguir a seguinte estratégia:\n",
    "\n",
    "1. Crie os dois vetores x e v de tamanhos n com zeros (já foi feito abaixo).\n",
    "\n",
    "2. Transforme o sistema Ax=b em x = Cx+g, transformando a matriz A diretamente na matriz C e o vetor b no vetor g conforme a equação abaixo:\n",
    "\n",
    "$\n",
    "\\underbrace{\\left[\n",
    "\\begin{array}{c}\n",
    "x_1^{(k+1)}\\\\\n",
    "x_2^{(k+1)}\\\\\n",
    "x_3^{(k+1)}\\\\\n",
    "\\vdots\\\\\n",
    "x_n^{(k+1)}\\\\\n",
    "\\end{array}\n",
    "\\right]}_{x^{(k+1)}} =\n",
    "\\underbrace{\\left[\n",
    "\\begin{array}{ccccc}\n",
    "0 & -\\frac{a_{12}}{a_{11}} & -\\frac{a_{13}}{a_{11}} & \\dots & -\\frac{a_{1n}}{a_{11}}\\\\ \n",
    "-\\frac{a_{21}}{a_{22}} & 0 &-\\frac{a_{23}}{a_{22}} & \\dots & -\\frac{a_{2n}}{a_{22}}\\\\\n",
    "-\\frac{a_{31}}{a_{33}} & -\\frac{a_{32}}{a_{33}} & 0 &\\dots & -\\frac{a_{3n}}{a_{33}}\\\\\n",
    "\\vdots & \\vdots & \\vdots & \\ddots & \\vdots\\\\\n",
    "-\\frac{a_{n1}}{a_{nn}} & -\\frac{a_{n2}}{a_{nn}} &\\dots &-\\frac{a_{n,n-1}}{a_{nn}} & 0 \\\\ \n",
    "\\end{array}\n",
    "\\right]}_{C} \\underbrace{\\left[\n",
    "\\begin{array}{c}\n",
    "x_1^{(k)}\\\\\n",
    "x_2^{(k)}\\\\\n",
    "x_3^{(k)}\\\\\n",
    "\\vdots\\\\\n",
    "x_n^{(k)}\\\\\n",
    "\\end{array}\n",
    "\\right]}_{x^{(k)}} + \\underbrace{\\left[\n",
    "\\begin{array}{c}\n",
    "\\frac{b_1}{a_{11}}\\\\\n",
    "\\frac{b_2}{a_{22}}\\\\\n",
    "\\frac{b_3}{a_{33}}\\\\\n",
    "\\vdots\\\\\n",
    "\\frac{b_n}{a_{nn}}\\\\\n",
    "\\end{array}\n",
    "\\right]}_{g}\n",
    "$\n",
    "\n",
    "3.Inicializar o vetor x com a aproximação inicial $b_{i}/A_{ii}$.\n",
    "\n",
    "4.Realizar as iterações em k. Para cada iteração k:\n",
    "\n",
    "   * Calcula o vetor v com a aproximação atual (você precisa de dois loops)\n",
    "   \n",
    "   * Calcula a norma entre v e x, usando a função norma\n",
    "   \n",
    "   * Verifica o critério de parada. Se for atendido, retorna o vetor atual. Caso contrário, atualiza o vetor x e continua a próxima iteração. Para atualizar o vetor x, você usa slicing de listas ou usa um loop para percorrer o vetor inteiro (x = v não vai funcionar.)"
   ]
  },
  {
   "cell_type": "code",
   "execution_count": null,
   "metadata": {
    "collapsed": true
   },
   "outputs": [],
   "source": [
    "def jacobi(A, b, epsilon, iterMax=50):\n",
    "    \"\"\"Resolve o sistema linear Ax=b usando o método iterativo Gauss-Jacobi.\n",
    "    O critério de parada utiliza a norma-infinito.\n",
    "    Saída é o vetor x.\n",
    "    \n",
    "    \"\"\"\n",
    "    n = len(A)\n",
    "    x = n * [0]\n",
    "    v = n * [0]\n",
    "    # Escreva o seu código aqui"
   ]
  },
  {
   "cell_type": "markdown",
   "metadata": {},
   "source": [
    "**Não se esqueça de executar a célula de código acima!**\n",
    "\n",
    "Agora precisamos testar se a função está implementada corretamente.\n",
    "Teste com o exemplo visto em sala:\n",
    "\n",
    "$\\begin{cases} \n",
    "10x_1 +2x_2+x_3= 7\\\\\n",
    "x_1+ 5x_2+x_3=-8\\\\\n",
    "2x_1 + 3x_2 + 10x_3=6\\\\\n",
    "\\end{cases}\n",
    "$\n",
    "\n",
    "e com $\\varepsilon = 0.05$. "
   ]
  },
  {
   "cell_type": "code",
   "execution_count": null,
   "metadata": {
    "collapsed": true
   },
   "outputs": [],
   "source": [
    "## Defina a matriz A, o vetor b e o epsilon.\n",
    "## Depois chame a função jacobi e mostre o resultado obtido.\n",
    "# Escreva o seu código aqui"
   ]
  },
  {
   "cell_type": "markdown",
   "metadata": {},
   "source": [
    "Se estiver tudo ok, ao executar a célula acima, você deve ver a resposta:\n",
    "```\n",
    "[0.9994, -1.9888000000000001, 0.9984]\n",
    "\n",
    "```"
   ]
  },
  {
   "cell_type": "markdown",
   "metadata": {},
   "source": [
    "### Exercício\n",
    "\n",
    "Use a sua função para resolver o seguinte sistema linear:\n",
    "\n",
    "$\\begin{cases} \n",
    "10x_1 +3x_2-2x_3= 57\\\\\n",
    "2x_1+ 8x_2-x_3=20\\\\\n",
    "x_1 + x_2 + 5x_3=-4\\\\\n",
    "\\end{cases}\n",
    "$\n",
    "\n",
    "e com $\\varepsilon = 0.01$. "
   ]
  },
  {
   "cell_type": "code",
   "execution_count": null,
   "metadata": {
    "collapsed": true
   },
   "outputs": [],
   "source": [
    "## Defina a matriz A, o vetor b e o epsilon.\n",
    "## Depois chame a função jacobi e mostre o resultado obtido.\n",
    "# Escreva o seu código aqui\n"
   ]
  }
 ],
 "metadata": {
  "kernelspec": {
   "display_name": "Python 3",
   "language": "python",
   "name": "python3"
  },
  "language_info": {
   "codemirror_mode": {
    "name": "ipython",
    "version": 3
   },
   "file_extension": ".py",
   "mimetype": "text/x-python",
   "name": "python",
   "nbconvert_exporter": "python",
   "pygments_lexer": "ipython3",
   "version": "3.6.5"
  }
 },
 "nbformat": 4,
 "nbformat_minor": 2
}
