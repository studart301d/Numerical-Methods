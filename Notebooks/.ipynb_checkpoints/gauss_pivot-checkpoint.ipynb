{
 "cells": [
  {
   "cell_type": "markdown",
   "metadata": {},
   "source": [
    "# Método da Eliminação de Gauss com Pivotação Parcial\n",
    "## Objetivo\n",
    "O objetivo desse notebook é implementar o método da eliminação de Gauss com Pivotação Parcial.\n",
    "\n",
    "## Implementação\n",
    "Nós iremos implementar o algoritmo parte por parte, de acordo com a estratégia mostrada em sala. As instruções estão nos comentários nas funções abaixo. Você só precisa editar onde estiver indicado. \n",
    "\n",
    "Para executar uma célula, selecione a célula e pressione ```Ctrl + Enter```. Após implementar as funções abaixo, você deve executar cada uma das células, preferencialmente na ordem em que elas aparecem.\n"
   ]
  },
  {
   "cell_type": "code",
   "execution_count": 1,
   "metadata": {},
   "outputs": [
    {
     "ename": "SyntaxError",
     "evalue": "'return' outside function (<ipython-input-1-d973558a3562>, line 15)",
     "output_type": "error",
     "traceback": [
      "\u001b[1;36m  File \u001b[1;32m\"<ipython-input-1-d973558a3562>\"\u001b[1;36m, line \u001b[1;32m15\u001b[0m\n\u001b[1;33m    return []\u001b[0m\n\u001b[1;37m    ^\u001b[0m\n\u001b[1;31mSyntaxError\u001b[0m\u001b[1;31m:\u001b[0m 'return' outside function\n"
     ]
    }
   ],
   "source": [
    "if A[j][j] == 0:\n",
    "                for aux in range(j,n):\n",
    "                    if A[aux][j] != 0:\n",
    "                        \n",
    "                        pivo = A[aux]\n",
    "                        A[aux] = A[j]\n",
    "                        A[j] = pivo\n",
    "                        \n",
    "                        auxB = b[aux]\n",
    "                        b[aux] = b[j]\n",
    "                        b[j] = auxB\n",
    "                        \n",
    "                    else:\n",
    "                        print(\"Erro\")\n",
    "                        return []"
   ]
  },
  {
   "cell_type": "markdown",
   "metadata": {},
   "source": [
    "### Função para escolher o pivô"
   ]
  },
  {
   "cell_type": "code",
   "execution_count": null,
   "metadata": {
    "collapsed": true
   },
   "outputs": [],
   "source": [
    "def escolhe_pivo(k, A, b):\n",
    "    '''Escolhe o pivô de maior valor absoluto na coluna k a partir da linha k \n",
    "       da matriz A. Se o pivô estiver numa linha diferente de k, as linhas da\n",
    "       matriz A e do vetor b são trocadas.\n",
    "       Saída: booleano (True se houve troca)\n",
    "    '''\n",
    "    ## n é a ordem da matriz A\n",
    "    n = len(A)\n",
    "    \n",
    "    ## inicializa flag para controlar se houve troca de linha com false\n",
    "    houve_troca = False\n",
    "    ## identifica o elemento de maior valor absoluto e a linha onde ele está\n",
    "    \n",
    "    ## se k for diferente da linha onde está o pivô, troca a linha k \n",
    "    ## pela linha do pivô em A e b e atribui o valor True à flag\n",
    "    \n",
    "    ## retorna a flag\n",
    "    return houve_troca\n",
    "    "
   ]
  },
  {
   "cell_type": "markdown",
   "metadata": {},
   "source": [
    "Agora precisamos testar se a função está implementada corretamente. Iremos testar com o exemplo mostrado em sala."
   ]
  },
  {
   "cell_type": "code",
   "execution_count": null,
   "metadata": {
    "collapsed": true
   },
   "outputs": [],
   "source": [
    "A = [[1, 2, 3],\n",
    "     [3, 1, 0],\n",
    "     [0, 3, 4]]\n",
    "b = [3, 4, 3]\n",
    "## Testaremos com a primeira coluna (k=0)\n",
    "houveTroca = escolhe_pivo(0, A, b)\n",
    "print(houveTroca)\n",
    "print(\"A =\", A)\n",
    "print(\"b =\", b)"
   ]
  },
  {
   "cell_type": "markdown",
   "metadata": {},
   "source": [
    "Se estiver tudo ok, ao executar a célula acima, você deve ver a resposta:\n",
    "```\n",
    "True\n",
    "A = [[3, 1, 0], [1, 2, 3], [0, 3, 4]]\n",
    "b = [4, 3, 3]\n",
    "```"
   ]
  },
  {
   "cell_type": "markdown",
   "metadata": {
    "collapsed": true
   },
   "source": [
    "### Método de Gauss com Pivotação\n",
    "\n",
    "Copie a função ```substituicoes_retroativas``` que você implementou no notebook gauss.ipynb.\n"
   ]
  },
  {
   "cell_type": "code",
   "execution_count": 2,
   "metadata": {},
   "outputs": [],
   "source": [
    "def substituicoes_retroativas(A, b):\n",
    "    '''Executa o método das substituições retroativas para resolver o sistema \n",
    "       linear triangular superior Ax=b.\n",
    "       Parâmetros de entrada: A é uma matriz triangular superior e b é o vetor constante. \n",
    "    '''\n",
    "    ## n é a ordem da matriz A\n",
    "    n = len(A)\n",
    "    \n",
    "    ## inicializa o vetor x com tamanho n e elementos iguais a 0\n",
    "    x = n * [0] \n",
    "    \n",
    "    # escreva o seu código aqui\n",
    "    A = A[::-1]\n",
    "    b = b[::-1]\n",
    "    \n",
    "    for i in range(n):\n",
    "        x[i] = (b[i] - sum([elem1*elem2 for elem1,elem2 in zip(x[0:i][::-1],A[i][n-i:n])]))/A[i][n - 1 -i]\n",
    "         \n",
    "    return x[::-1]"
   ]
  },
  {
   "cell_type": "markdown",
   "metadata": {},
   "source": [
    "Agora copie o conteúdo da função ```gauss``` que você implementou no notebook gauss.ipynb, modificando apenas a parte para escolher o pivô. O resto permanece igual."
   ]
  },
  {
   "cell_type": "code",
   "execution_count": null,
   "metadata": {
    "collapsed": true
   },
   "outputs": [],
   "source": [
    "def gauss_pivot(A, b):\n",
    "    '''Executa o método da eliminação de Gauss com pivotação para resolver o sistema  linear Ax=b \n",
    "    transformando o sistema em um sistema triangular superior equivalente.\n",
    "    Parâmetros de entrada: A é uma matriz quadrada de ordem n e b é o vetor constante.\n",
    "    Saída: vetor x\n",
    "    '''\n",
    "    ## n é a ordem da matriz A\n",
    "    n = len(A)\n",
    "    ## Para cada etapa k\n",
    "        ## Escolhe o pivô\n",
    "        \n",
    "        ## Para cada linha i\n",
    "            ## Calcula o fator m\n",
    "            ## Atualiza a linha i da matriz, percorrendo todas as colunas j\n",
    "            # Atualiza o vetor b na linha i\n",
    "            ## Zera o elemento Aik\n",
    "    ## Agora resolve o sistema triangular superior usando as substituições \n",
    "    ## retroativas\n",
    "    x = substituicoes_retroativas(A, b)\n",
    "    return x"
   ]
  },
  {
   "cell_type": "markdown",
   "metadata": {},
   "source": [
    "**Não se esqueça de executar as células de código acima!**"
   ]
  },
  {
   "cell_type": "markdown",
   "metadata": {},
   "source": [
    "Agora precisamos testar se a função está implementada corretamente. Também iremos usar o exemplo mostrado em sala."
   ]
  },
  {
   "cell_type": "code",
   "execution_count": null,
   "metadata": {},
   "outputs": [],
   "source": [
    "A = [[1, 2, 3],\n",
    "     [3, 1, 0],\n",
    "     [0, 3, 4]]\n",
    "b = [3, 4, 3]\n",
    "x = gauss_pivot(A, b)\n",
    "print(x)"
   ]
  },
  {
   "cell_type": "markdown",
   "metadata": {},
   "source": [
    "Se estiver tudo ok, ao executar a célula acima, você deve ver a resposta:\n",
    "```\n",
    "[1.0, 1.0, 0.0]\n",
    "```\n",
    "#### Exercício 1\n",
    "Na célula abaixo, teste o método resolvendo o exercício mostrado em sala:\n",
    "\n",
    "$\\left[\\begin{array}{rrr}\n",
    "1& -3 & 2\\\\\n",
    "-2& 8 & -1\\\\\n",
    "4& -6 & 5\\\\\n",
    "\\end{array}\\right] \\left[\\begin{array}{c}\n",
    "x_1\\\\\n",
    "x_2\\\\\n",
    "x_3\\\\\n",
    "\\end{array}\\right] = \\left[\\begin{array}{r}\n",
    "11\\\\\n",
    "-15\\\\\n",
    "29\\\\\n",
    "\\end{array}\\right] $"
   ]
  },
  {
   "cell_type": "code",
   "execution_count": null,
   "metadata": {
    "collapsed": true
   },
   "outputs": [],
   "source": [
    "## Defina a matriz A e o vetor b e chame a função gauss_pivot\n",
    "# Escreva o seu código aqui"
   ]
  },
  {
   "cell_type": "markdown",
   "metadata": {},
   "source": [
    "#### Exercício 2\n",
    "Na célula abaixo, o seguinte sistema linear:\n",
    "\n",
    "$\\left[\\begin{array}{rrr}\n",
    "3& 2 & 4\\\\\n",
    "1& 1 & 2\\\\\n",
    "4& 3 & -2\\\\\n",
    "\\end{array}\\right] \\left[\\begin{array}{c}\n",
    "x_1\\\\\n",
    "x_2\\\\\n",
    "x_3\\\\\n",
    "\\end{array}\\right] = \\left[\\begin{array}{r}\n",
    "1\\\\\n",
    "2\\\\\n",
    "3\\\\\n",
    "\\end{array}\\right] $"
   ]
  },
  {
   "cell_type": "code",
   "execution_count": null,
   "metadata": {
    "collapsed": true
   },
   "outputs": [],
   "source": [
    "## Defina a matriz A e o vetor b e chame a função gauss_pivot\n",
    "# Escreva o seu código aqui"
   ]
  },
  {
   "cell_type": "markdown",
   "metadata": {},
   "source": [
    "### Exercício\n",
    "\n",
    "Modifique o método de gauss com pivotação para também calcular o determinante.\n",
    "Use o valor retornado pela função ```escolhe_pivo``` para controlar o número de permutações, P.\n",
    "\n",
    "$det(A) = (-1)^P \\times det(U)$"
   ]
  },
  {
   "cell_type": "code",
   "execution_count": null,
   "metadata": {
    "collapsed": true
   },
   "outputs": [],
   "source": [
    "def gauss_pivot_det(A, b):\n",
    "    '''Executa o método da eliminação de Gauss com pivotação para resolver o sistema  linear Ax=b \n",
    "    transformando o sistema em um sistema triangular superior equivalente.\n",
    "    Parâmetros de entrada: A é uma matriz quadrada de ordem n e b é o vetor constante.\n",
    "    Saída: vetor x\n",
    "    '''\n",
    "    ## n é a ordem da matriz A\n",
    "    n = len(A)\n",
    "    P = 0\n",
    "    ## Para cada etapa k\n",
    "        ## Escolhe o pivô\n",
    "        \n",
    "        ## Para cada linha i\n",
    "            ## Calcula o fator m\n",
    "            ## Atualiza a linha i da matriz, percorrendo todas as colunas j\n",
    "            # Atualiza o vetor b na linha i\n",
    "            ## Zera o elemento Aik\n",
    "    ## Agora calcula o determinante antes de resolver o sistema triangular superior\n",
    "    \n",
    "    # Escreva o seu código aqui\n",
    "    \n",
    "    x = substituicoes_retroativas(A, b)\n",
    "    return (x, det)"
   ]
  },
  {
   "cell_type": "markdown",
   "metadata": {},
   "source": [
    "Agora teste com o exemplo acima:\n",
    "\n",
    "$\\left[\\begin{array}{rrr}\n",
    "1& -3 & 2\\\\\n",
    "-2& 8 & -1\\\\\n",
    "4& -6 & 5\\\\\n",
    "\\end{array}\\right] \\left[\\begin{array}{c}\n",
    "x_1\\\\\n",
    "x_2\\\\\n",
    "x_3\\\\\n",
    "\\end{array}\\right] = \\left[\\begin{array}{r}\n",
    "11\\\\\n",
    "-15\\\\\n",
    "29\\\\\n",
    "\\end{array}\\right] $"
   ]
  },
  {
   "cell_type": "code",
   "execution_count": null,
   "metadata": {
    "collapsed": true
   },
   "outputs": [],
   "source": [
    "## Defina a matriz A e o vetor b e chame a função gauss_det\n",
    "# Escreva o seu código aqui"
   ]
  },
  {
   "cell_type": "markdown",
   "metadata": {
    "collapsed": true
   },
   "source": [
    "Se tudo deu certo, você deve obter a seguinte resposta:\n",
    "\n",
    "```[2.0, -1.0, 3.0]  -24.0\n",
    "```\n"
   ]
  }
 ],
 "metadata": {
  "kernelspec": {
   "display_name": "Python 3",
   "language": "python",
   "name": "python3"
  },
  "language_info": {
   "codemirror_mode": {
    "name": "ipython",
    "version": 3
   },
   "file_extension": ".py",
   "mimetype": "text/x-python",
   "name": "python",
   "nbconvert_exporter": "python",
   "pygments_lexer": "ipython3",
   "version": "3.6.5"
  }
 },
 "nbformat": 4,
 "nbformat_minor": 2
}
