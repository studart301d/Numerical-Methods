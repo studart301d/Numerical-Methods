{
 "cells": [
  {
   "cell_type": "code",
   "execution_count": 19,
   "metadata": {},
   "outputs": [],
   "source": [
    "import numpy as np"
   ]
  },
  {
   "cell_type": "code",
   "execution_count": 20,
   "metadata": {},
   "outputs": [],
   "source": [
    "def norma(v,x):\n",
    "    \"\"\"Calcula a norma entre dois vetores v e x.\n",
    "    \"\"\"\n",
    "    n = len(v)\n",
    "    if type(v) != np.ndarray:\n",
    "        v = np.array(v)\n",
    "    if type(x) != np.ndarray:\n",
    "        x = np.array(x)\n",
    "        \n",
    "    maxDif = max(abs(v-x))\n",
    "    maxV = max(abs(v))\n",
    "    \n",
    "    norma = maxDif/maxV \n",
    "    \n",
    "    return norma"
   ]
  },
  {
   "cell_type": "code",
   "execution_count": 21,
   "metadata": {},
   "outputs": [],
   "source": [
    "def  seidel(A, B, epsilon , iterMax =50):\n",
    "    #Resolve o sistema  linear  Ax=b usando o m ́etodo  iterativo  Gauss -Seidel.\n",
    "    #O crit ́erio de  parada  utiliza a norma -infinito.\n",
    "    #Sa ́ıda  ́e o vetor v.\n",
    "    \n",
    "    n = len(A)\n",
    "    x = n * [0.0]\n",
    "    v = n * [0.0]\n",
    "    x=np.array(x)\n",
    "    v=np.array(v)\n",
    "\n",
    "    # Escreva o seu c ́odigo  aqui\n",
    "    for i in  range(0,n):\n",
    "        for j in  range(0,n):\n",
    "            if j!=i:\n",
    "                A[i][j]=-(A[i][j]/A[i][i]);\n",
    "        B[i]=B[i]/A[i][i];\n",
    "        A[i][i]=0.0;\n",
    "        \n",
    "    contador =1;\n",
    "    print(A)\n",
    "    print(B)\n",
    "        \n",
    "    while contador<50:\n",
    "        \n",
    "        for i in range(0,n):\n",
    "            x=np.copy(v);\n",
    "            aux=(A[i]*v).sum()+B[i]\n",
    "            v[i]=aux\n",
    "            \n",
    "        norm=norma(v,x);\n",
    "        if norm<epsilon:\n",
    "            break;\n",
    "        contador=contador+1;\n",
    "        \n",
    "    return v;"
   ]
  },
  {
   "cell_type": "code",
   "execution_count": 22,
   "metadata": {},
   "outputs": [
    {
     "name": "stdout",
     "output_type": "stream",
     "text": [
      "[[0.0, -0.2, -0.2], [-0.75, 0.0, -0.25], [-0.5, -0.5, 0.0]]\n",
      "[1.0, 1.5, 0.0]\n",
      "[ 1.0075    0.99125  -0.999375]\n"
     ]
    }
   ],
   "source": [
    "## Defina a matriz A, o vetor b e o epsilon.\n",
    "## Depois chame a função seidel e mostre o resultado obtido.\n",
    "# Escreva o seu código aqui\n",
    "A = [[5,1,1],[3,4,1],[3,3,6]]\n",
    "b = [5,6,0]\n",
    "epsilon = 0.05\n",
    "\n",
    "x = seidel(A,b,epsilon)\n",
    "print(x)"
   ]
  },
  {
   "cell_type": "markdown",
   "metadata": {},
   "source": [
    "Se estiver tudo ok, ao executar a célula acima, você deve ver a resposta:\n",
    "```\n",
    "[1.0075, 0.99125, -0.999375]\n",
    "\n",
    "```"
   ]
  },
  {
   "cell_type": "code",
   "execution_count": null,
   "metadata": {},
   "outputs": [],
   "source": []
  }
 ],
 "metadata": {
  "kernelspec": {
   "display_name": "Python 3",
   "language": "python",
   "name": "python3"
  },
  "language_info": {
   "codemirror_mode": {
    "name": "ipython",
    "version": 3
   },
   "file_extension": ".py",
   "mimetype": "text/x-python",
   "name": "python",
   "nbconvert_exporter": "python",
   "pygments_lexer": "ipython3",
   "version": "3.6.5"
  }
 },
 "nbformat": 4,
 "nbformat_minor": 2
}
