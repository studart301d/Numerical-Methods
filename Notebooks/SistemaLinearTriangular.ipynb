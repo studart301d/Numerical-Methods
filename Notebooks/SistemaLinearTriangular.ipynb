{
 "cells": [
  {
   "cell_type": "code",
   "execution_count": 1,
   "metadata": {},
   "outputs": [],
   "source": [
    "import numpy as np"
   ]
  },
  {
   "cell_type": "code",
   "execution_count": 442,
   "metadata": {},
   "outputs": [],
   "source": [
    "def sistemaLinearTriangular(matrizA,vectorb,tipo):\n",
    "    \n",
    "    if type(matrizA) != np.ndarray:\n",
    "            matrizA = np.array(matrizA)\n",
    "            \n",
    "    #Verificar se a Matriz A é triangular inferior\n",
    "\n",
    "    b = len(vectorb)  # size da Matriz A\n",
    "\n",
    "    vectorX = []    #Vetor x\n",
    "    \n",
    "    if tipo == 'inf':\n",
    "    \n",
    "        for i in range(b):\n",
    "            vectorX.append((vectorb[i] - sum(vectorX[0:i]*matrizA[i][0:i]))/matrizA[i][i])\n",
    "            \n",
    "    elif tipo == 'sup':\n",
    "        \n",
    "        #[::-1] Inverte o vetor [x,y][::-1] = [y,x]\n",
    "        matrizA = matrizA[::-1]\n",
    "        vectorb = vectorb[::-1]\n",
    "        \n",
    "        for i in range(b):\n",
    "            vectorX.append((vectorb[i] - sum(vectorX[0:i][::-1]*matrizA[i][b-i:b]))/matrizA[i][b - 1 -i])\n",
    "            \n",
    "        vectorX = vectorX[::-1]\n",
    "\n",
    "    return vectorX\n",
    "    \n",
    "        "
   ]
  },
  {
   "cell_type": "code",
   "execution_count": 443,
   "metadata": {},
   "outputs": [],
   "source": [
    "A = np.array(([3,0,0,0],[2,-3,0,0],[1,0,5,0],[0,2,4,-3]))"
   ]
  },
  {
   "cell_type": "code",
   "execution_count": 444,
   "metadata": {},
   "outputs": [],
   "source": [
    "b = np.array([6,7,-8,-3])"
   ]
  },
  {
   "cell_type": "code",
   "execution_count": 445,
   "metadata": {},
   "outputs": [
    {
     "data": {
      "text/plain": [
       "[2.0, -1.0, -2.0, -2.3333333333333335]"
      ]
     },
     "execution_count": 445,
     "metadata": {},
     "output_type": "execute_result"
    }
   ],
   "source": [
    "sistemaLinearTriangular(A,b,'inf')"
   ]
  },
  {
   "cell_type": "code",
   "execution_count": 446,
   "metadata": {},
   "outputs": [],
   "source": [
    "A1 = np.array(([2,0,0,0],[3,5,0,0],[1,-6,8,0],[-1,4,-3,9]))"
   ]
  },
  {
   "cell_type": "code",
   "execution_count": 447,
   "metadata": {},
   "outputs": [],
   "source": [
    "b1 = np.array([4,1,48,6])"
   ]
  },
  {
   "cell_type": "code",
   "execution_count": 448,
   "metadata": {},
   "outputs": [
    {
     "data": {
      "text/plain": [
       "[2.0, -1.0, 5.0, 3.0]"
      ]
     },
     "execution_count": 448,
     "metadata": {},
     "output_type": "execute_result"
    }
   ],
   "source": [
    "sistemaLinearTriangular(A1,b1,'inf')"
   ]
  },
  {
   "cell_type": "code",
   "execution_count": 449,
   "metadata": {},
   "outputs": [],
   "source": [
    "A = np.array(([5,-2,6,1],[0,3,7,-4],[0,0,4,5],[0,0,0,2]))"
   ]
  },
  {
   "cell_type": "code",
   "execution_count": 450,
   "metadata": {},
   "outputs": [],
   "source": [
    "b = np.array([1,-2,28,8])"
   ]
  },
  {
   "cell_type": "code",
   "execution_count": 451,
   "metadata": {},
   "outputs": [
    {
     "data": {
      "text/plain": [
       "[-3.0, 0.0, 2.0, 4.0]"
      ]
     },
     "execution_count": 451,
     "metadata": {},
     "output_type": "execute_result"
    }
   ],
   "source": [
    "sistemaLinearTriangular(A,b,'sup')"
   ]
  },
  {
   "cell_type": "code",
   "execution_count": null,
   "metadata": {},
   "outputs": [],
   "source": []
  }
 ],
 "metadata": {
  "kernelspec": {
   "display_name": "Python 3",
   "language": "python",
   "name": "python3"
  },
  "language_info": {
   "codemirror_mode": {
    "name": "ipython",
    "version": 3
   },
   "file_extension": ".py",
   "mimetype": "text/x-python",
   "name": "python",
   "nbconvert_exporter": "python",
   "pygments_lexer": "ipython3",
   "version": "3.6.5"
  }
 },
 "nbformat": 4,
 "nbformat_minor": 2
}
